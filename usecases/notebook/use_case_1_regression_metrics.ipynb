{
 "cells": [
  {
   "cell_type": "markdown",
   "id": "42ae6a63",
   "metadata": {},
   "source": [
    "# A Grammar for the Automated Visual Presentation of Computations on Data\n",
    "\n",
    "This notebook generates visualizations using the grammar described in submission 1404 for the 2023 IEEE VIS Full Papers CFP.\n",
    "\n",
    "## Use Case 1: Model metrics in computational notebook\n",
    "\n",
    "In this use case, we consider a data scientist who has built a model and is trying to communicate the quality of the model using performance metrics.  Using our python package `specmetric`, the data scientist is able to generate visualizations of different metrics.\n"
   ]
  },
  {
   "cell_type": "code",
   "execution_count": 1,
   "id": "6a2e2374",
   "metadata": {},
   "outputs": [],
   "source": [
    "# Setup - load data and model\n",
    "# Starting from https://scikit-learn.org/stable/auto_examples/linear_model/plot_ols.html\n",
    "# Then changing one-D linear regression plot to r2 plot\n",
    "import numpy as np\n",
    "from sklearn import datasets, linear_model\n",
    "from sklearn.metrics import mean_squared_error, r2_score\n",
    "import pandas as pd\n",
    "\n",
    "# Load the diabetes dataset\n",
    "diabetes_X, diabetes_y = datasets.load_diabetes(return_X_y=True)\n",
    "\n",
    "# # Use one features\n",
    "# diabetes_X = diabetes_X[:, np.newaxis, 2]\n",
    "\n",
    "# Split the data into training/testing sets\n",
    "diabetes_X_train = diabetes_X[:-20]\n",
    "diabetes_X_test = diabetes_X[-20:]\n",
    "df_X_test = pd.DataFrame(data=diabetes_X_test, columns=['age', 'sex', 'bmi', 'bp', 'tc', 'ldl', 'hdl', 'tch', 'ltg', 'glu'])\n",
    "\n",
    "# Split the targets into training/testing sets\n",
    "diabetes_y_train = diabetes_y[:-20]\n",
    "diabetes_y_test = diabetes_y[-20:]\n",
    "\n",
    "# Create linear regression object\n",
    "regr = linear_model.LinearRegression()\n",
    "\n",
    "# Train the model using the training sets\n",
    "regr.fit(diabetes_X_train, diabetes_y_train)\n",
    "\n",
    "# Make predictions using the testing set\n",
    "diabetes_y_pred = regr.predict(diabetes_X_test)\n",
    "\n",
    "# Calculate a baseline - always predict the mean label of training set\n",
    "mean_train_labels_baseline = np.full_like(diabetes_y_pred, np.mean(diabetes_y_train))\n"
   ]
  },
  {
   "cell_type": "code",
   "execution_count": 2,
   "id": "fc65dea4",
   "metadata": {},
   "outputs": [],
   "source": [
    "# Point notebook to local directory to pull in specmetric\n",
    "import os\n",
    "import sys\n",
    "from pathlib import Path\n",
    "module_path = os.path.join(os.path.dirname(os.path.dirname(os.path.abspath(''))))\n",
    "\n",
    "if module_path not in sys.path:\n",
    "    sys.path.append(module_path)\n",
    "\n",
    "# Load up specmetric\n",
    "from specmetric.parser import ComputationTreeParser\n",
    "from specmetric.computation_tree import ComputationNode\n",
    "from specmetric.renderer import AltairRenderer\n",
    "from specmetric.visualization_container import VisualizationContainer\n"
   ]
  },
  {
   "cell_type": "markdown",
   "id": "0e942fc2",
   "metadata": {},
   "source": [
    "Now that the model is trained and the libraries are loaded, the data scientist calculates some metrics.  We write out these metrics explicitly as a computation tree.  In practice, it would be possible to write a function that takes Python's abstract syntax tree generated from the scoring functions written by the data scientist.  For this use case, we assume that the AST has already been parsed and written into the DSL that specmetric expects."
   ]
  },
  {
   "cell_type": "code",
   "execution_count": 3,
   "id": "a4920d87",
   "metadata": {
    "scrolled": true
   },
   "outputs": [
    {
     "data": {
      "text/html": [
       "<style>.container { width:100% !important; }</style>"
      ],
      "text/plain": [
       "<IPython.core.display.HTML object>"
      ]
     },
     "metadata": {},
     "output_type": "display_data"
    },
    {
     "data": {
      "text/html": [
       "<style>div.output_scroll { height: 44em; display: block;}</style>"
      ],
      "text/plain": [
       "<IPython.core.display.HTML object>"
      ]
     },
     "metadata": {},
     "output_type": "display_data"
    },
    {
     "data": {
      "text/html": [
       "\n",
       "<div id=\"altair-viz-85918672708e4062a86d3311690f4b67\"></div>\n",
       "<script type=\"text/javascript\">\n",
       "  var VEGA_DEBUG = (typeof VEGA_DEBUG == \"undefined\") ? {} : VEGA_DEBUG;\n",
       "  (function(spec, embedOpt){\n",
       "    let outputDiv = document.currentScript.previousElementSibling;\n",
       "    if (outputDiv.id !== \"altair-viz-85918672708e4062a86d3311690f4b67\") {\n",
       "      outputDiv = document.getElementById(\"altair-viz-85918672708e4062a86d3311690f4b67\");\n",
       "    }\n",
       "    const paths = {\n",
       "      \"vega\": \"https://cdn.jsdelivr.net/npm//vega@5?noext\",\n",
       "      \"vega-lib\": \"https://cdn.jsdelivr.net/npm//vega-lib?noext\",\n",
       "      \"vega-lite\": \"https://cdn.jsdelivr.net/npm//vega-lite@4.17.0?noext\",\n",
       "      \"vega-embed\": \"https://cdn.jsdelivr.net/npm//vega-embed@6?noext\",\n",
       "    };\n",
       "\n",
       "    function maybeLoadScript(lib, version) {\n",
       "      var key = `${lib.replace(\"-\", \"\")}_version`;\n",
       "      return (VEGA_DEBUG[key] == version) ?\n",
       "        Promise.resolve(paths[lib]) :\n",
       "        new Promise(function(resolve, reject) {\n",
       "          var s = document.createElement('script');\n",
       "          document.getElementsByTagName(\"head\")[0].appendChild(s);\n",
       "          s.async = true;\n",
       "          s.onload = () => {\n",
       "            VEGA_DEBUG[key] = version;\n",
       "            return resolve(paths[lib]);\n",
       "          };\n",
       "          s.onerror = () => reject(`Error loading script: ${paths[lib]}`);\n",
       "          s.src = paths[lib];\n",
       "        });\n",
       "    }\n",
       "\n",
       "    function showError(err) {\n",
       "      outputDiv.innerHTML = `<div class=\"error\" style=\"color:red;\">${err}</div>`;\n",
       "      throw err;\n",
       "    }\n",
       "\n",
       "    function displayChart(vegaEmbed) {\n",
       "      vegaEmbed(outputDiv, spec, embedOpt)\n",
       "        .catch(err => showError(`Javascript Error: ${err.message}<br>This usually means there's a typo in your chart specification. See the javascript console for the full traceback.`));\n",
       "    }\n",
       "\n",
       "    if(typeof define === \"function\" && define.amd) {\n",
       "      requirejs.config({paths});\n",
       "      require([\"vega-embed\"], displayChart, err => showError(`Error loading script: ${err.message}`));\n",
       "    } else {\n",
       "      maybeLoadScript(\"vega\", \"5\")\n",
       "        .then(() => maybeLoadScript(\"vega-lite\", \"4.17.0\"))\n",
       "        .then(() => maybeLoadScript(\"vega-embed\", \"6\"))\n",
       "        .catch(showError)\n",
       "        .then(() => displayChart(vegaEmbed));\n",
       "    }\n",
       "  })({\"config\": {\"view\": {\"continuousWidth\": 400, \"continuousHeight\": 300}}, \"hconcat\": [{\"layer\": [{\"mark\": \"point\", \"encoding\": {\"x\": {\"axis\": {\"title\": \"y_i\"}, \"field\": \"x\", \"scale\": {\"domain\": [0, 543.1800000000001]}, \"type\": \"quantitative\"}, \"y\": {\"axis\": {\"title\": \"y_bar_vector\"}, \"field\": \"y\", \"scale\": {\"domain\": [0, 543.1800000000001]}, \"type\": \"quantitative\"}}, \"height\": 400.0, \"title\": \"Comparison of y_i and y_bar_vector\", \"width\": 400.0}, {\"mark\": \"line\", \"encoding\": {\"x\": {\"axis\": {\"title\": \"y_i\"}, \"field\": \"x\", \"scale\": {\"domain\": [0, 543.1800000000001]}, \"type\": \"quantitative\"}, \"x2\": {\"field\": \"x\"}, \"y\": {\"axis\": {\"title\": \"y_bar_vector\"}, \"field\": \"y\", \"scale\": {\"domain\": [0, 543.1800000000001]}, \"type\": \"quantitative\"}, \"y2\": {\"field\": \"liney2\"}}, \"height\": 400.0, \"title\": \"Magnitudes of y_i_minus_y_bar\", \"width\": 400.0}, {\"mark\": {\"type\": \"rect\", \"opacity\": 0.2}, \"encoding\": {\"color\": {\"condition\": {\"value\": \"yellow\", \"selection\": \"selector001\"}, \"field\": \"color\", \"legend\": null, \"scale\": {\"scheme\": \"category10\"}, \"type\": \"nominal\"}, \"tooltip\": [{\"field\": \"age\", \"type\": \"quantitative\"}, {\"field\": \"bmi\", \"type\": \"quantitative\"}, {\"field\": \"bp\", \"type\": \"quantitative\"}, {\"field\": \"glu\", \"type\": \"quantitative\"}, {\"field\": \"hdl\", \"type\": \"quantitative\"}, {\"field\": \"id\", \"type\": \"quantitative\"}, {\"field\": \"ldl\", \"type\": \"quantitative\"}, {\"field\": \"ltg\", \"type\": \"quantitative\"}, {\"field\": \"sex\", \"type\": \"quantitative\"}, {\"field\": \"tc\", \"type\": \"quantitative\"}, {\"field\": \"tch\", \"type\": \"quantitative\"}, {\"field\": \"y_hat_i\", \"type\": \"quantitative\"}, {\"field\": \"y_i\", \"type\": \"quantitative\"}], \"x\": {\"axis\": {\"title\": \"y_i\"}, \"field\": \"x\", \"scale\": {\"domain\": [0, 543.1800000000001]}, \"type\": \"quantitative\"}, \"x2\": {\"field\": \"squarex2\"}, \"y\": {\"axis\": {\"title\": \"y_bar_vector\"}, \"field\": \"y\", \"scale\": {\"domain\": [0, 543.1800000000001]}, \"type\": \"quantitative\"}, \"y2\": {\"field\": \"squarey2\"}}, \"height\": 400.0, \"selection\": {\"selector001\": {\"type\": \"single\", \"fields\": [\"id\"], \"on\": \"mouseover\", \"empty\": \"none\"}}, \"title\": \"Magnitudes of y_i_minus_y_bar_squared\", \"width\": 400.0}, {\"data\": {\"name\": \"data-15c23951f16b3a566089d867aff67034\"}, \"mark\": \"line\", \"encoding\": {\"x\": {\"field\": \"x\", \"type\": \"quantitative\"}, \"y\": {\"field\": \"y\", \"type\": \"quantitative\"}}}], \"data\": {\"name\": \"data-c15d43b74a029eeff063932ed724afb4\"}}, {\"layer\": [{\"mark\": \"point\", \"encoding\": {\"x\": {\"axis\": {\"title\": \"y_i\"}, \"field\": \"x\", \"scale\": {\"domain\": [0, 396.9631465876924]}, \"type\": \"quantitative\"}, \"y\": {\"axis\": {\"title\": \"y_hat_i\"}, \"field\": \"y\", \"scale\": {\"domain\": [0, 396.9631465876924]}, \"type\": \"quantitative\"}}, \"height\": 400.0, \"title\": \"Comparison of y_i and y_hat_i\", \"width\": 400.0}, {\"mark\": \"line\", \"encoding\": {\"x\": {\"axis\": {\"title\": \"y_i\"}, \"field\": \"x\", \"scale\": {\"domain\": [0, 396.9631465876924]}, \"type\": \"quantitative\"}, \"x2\": {\"field\": \"x\"}, \"y\": {\"axis\": {\"title\": \"y_hat_i\"}, \"field\": \"y\", \"scale\": {\"domain\": [0, 396.9631465876924]}, \"type\": \"quantitative\"}, \"y2\": {\"field\": \"liney2\"}}, \"height\": 400.0, \"title\": \"Magnitudes of y_i_minus_y_hat_i\", \"width\": 400.0}, {\"mark\": {\"type\": \"rect\", \"opacity\": 0.2}, \"encoding\": {\"color\": {\"condition\": {\"value\": \"yellow\", \"selection\": \"selector001\"}, \"field\": \"color\", \"legend\": null, \"scale\": {\"scheme\": \"category10\"}, \"type\": \"nominal\"}, \"tooltip\": [{\"field\": \"age\", \"type\": \"quantitative\"}, {\"field\": \"bmi\", \"type\": \"quantitative\"}, {\"field\": \"bp\", \"type\": \"quantitative\"}, {\"field\": \"glu\", \"type\": \"quantitative\"}, {\"field\": \"hdl\", \"type\": \"quantitative\"}, {\"field\": \"id\", \"type\": \"quantitative\"}, {\"field\": \"ldl\", \"type\": \"quantitative\"}, {\"field\": \"ltg\", \"type\": \"quantitative\"}, {\"field\": \"sex\", \"type\": \"quantitative\"}, {\"field\": \"tc\", \"type\": \"quantitative\"}, {\"field\": \"tch\", \"type\": \"quantitative\"}, {\"field\": \"y_hat_i\", \"type\": \"quantitative\"}, {\"field\": \"y_i\", \"type\": \"quantitative\"}], \"x\": {\"axis\": {\"title\": \"y_i\"}, \"field\": \"x\", \"scale\": {\"domain\": [0, 396.9631465876924]}, \"type\": \"quantitative\"}, \"x2\": {\"field\": \"squarex2\"}, \"y\": {\"axis\": {\"title\": \"y_hat_i\"}, \"field\": \"y\", \"scale\": {\"domain\": [0, 396.9631465876924]}, \"type\": \"quantitative\"}, \"y2\": {\"field\": \"squarey2\"}}, \"height\": 400.0, \"selection\": {\"selector001\": {\"type\": \"single\", \"fields\": [\"id\"], \"on\": \"mouseover\", \"empty\": \"none\"}}, \"title\": \"Magnitudes of y_i_minus_y_hat_i_squared\", \"width\": 400.0}, {\"data\": {\"name\": \"data-e0a81cc6e9a9e11fc25e1a30be8251a5\"}, \"mark\": \"line\", \"encoding\": {\"x\": {\"field\": \"x\", \"type\": \"quantitative\"}, \"y\": {\"field\": \"y\", \"type\": \"quantitative\"}}}], \"data\": {\"name\": \"data-a967c8566b995fd699e649e29c191db6\"}}, {\"layer\": [{\"data\": {\"name\": \"data-b9d7f3e64fe074de11db329c5602a028\"}, \"mark\": {\"type\": \"bar\", \"opacity\": 0.1, \"size\": 150}, \"encoding\": {\"x\": {\"axis\": {\"title\": \"\"}, \"field\": \"scalar_names\", \"type\": \"nominal\"}, \"y\": {\"axis\": {\"title\": \"magnitude\"}, \"field\": \"scalar_values\", \"type\": \"quantitative\"}}, \"height\": 400.0, \"title\": \"ss_res / ss_tot\", \"width\": 400.0}, {\"data\": {\"name\": \"data-5f5f0f9e76787707779c88d0016b4662\"}, \"mark\": {\"type\": \"rect\", \"opacity\": 0.2}, \"encoding\": {\"color\": {\"condition\": {\"value\": \"yellow\", \"selection\": \"selector001\"}, \"field\": \"color\", \"legend\": null, \"scale\": {\"scheme\": \"category10\"}, \"type\": \"nominal\"}, \"tooltip\": [{\"field\": \"age\", \"type\": \"quantitative\"}, {\"field\": \"bmi\", \"type\": \"quantitative\"}, {\"field\": \"bp\", \"type\": \"quantitative\"}, {\"field\": \"glu\", \"type\": \"quantitative\"}, {\"field\": \"hdl\", \"type\": \"quantitative\"}, {\"field\": \"id\", \"type\": \"quantitative\"}, {\"field\": \"ldl\", \"type\": \"quantitative\"}, {\"field\": \"ltg\", \"type\": \"quantitative\"}, {\"field\": \"part of\", \"type\": \"nominal\"}, {\"field\": \"sex\", \"type\": \"quantitative\"}, {\"field\": \"tc\", \"type\": \"quantitative\"}, {\"field\": \"tch\", \"type\": \"quantitative\"}, {\"field\": \"y_hat_i\", \"type\": \"quantitative\"}, {\"field\": \"y_i\", \"type\": \"quantitative\"}], \"x\": {\"axis\": {\"title\": \"\"}, \"field\": \"__x__\", \"scale\": {\"domain\": [0, 400.0]}, \"type\": \"quantitative\"}, \"x2\": {\"field\": \"__x2__\"}, \"y\": {\"axis\": {\"title\": \"magnitude\"}, \"field\": \"__y__\", \"type\": \"quantitative\"}, \"y2\": {\"field\": \"__y2__\"}}, \"height\": 400.0, \"selection\": {\"selector001\": {\"type\": \"single\", \"fields\": [\"id\"], \"on\": \"mouseover\", \"empty\": \"none\"}}, \"title\": \"Comparison of sum of y_i_minus_y_hat_i_squared and y_i_minus_y_bar_squared\", \"width\": 400.0}]}, {\"data\": {\"name\": \"data-c4a6182402d9f0a218a68bc558ceea3b\"}, \"mark\": {\"type\": \"bar\", \"opacity\": 1.0, \"size\": 150}, \"encoding\": {\"x\": {\"axis\": {\"title\": \"\"}, \"field\": \"scalar_names\", \"type\": \"nominal\"}, \"y\": {\"axis\": {\"title\": \"magnitude\"}, \"field\": \"scalar_values\", \"type\": \"quantitative\"}}, \"height\": 400.0, \"title\": \"one - ss_res_ss_tot_ratio\", \"width\": 400.0}], \"$schema\": \"https://vega.github.io/schema/vega-lite/v4.17.0.json\", \"datasets\": {\"data-c15d43b74a029eeff063932ed724afb4\": [{\"linediff\": 106.8, \"x\": 233.0, \"y\": 126.2, \"squarediff\": 106.8, \"color\": \"y_i_minus_y_bar_squared\", \"id\": 0, \"y_i\": 233.0, \"y_hat_i\": 197.61898486167382, \"age\": -0.07816532399919843, \"sex\": 0.05068011873981862, \"bmi\": 0.07786338762689529, \"bp\": 0.052858044296680055, \"tc\": 0.07823630595545376, \"ldl\": 0.0644472995495836, \"hdl\": 0.026550272625626974, \"tch\": -0.002592261998183278, \"ltg\": 0.04067282891595704, \"glu\": -0.009361911330134878, \"liney2\": 233.0, \"squarex2\": 339.8, \"squarey2\": 233.0}, {\"linediff\": -35.2, \"x\": 91.0, \"y\": 126.2, \"squarediff\": 35.2, \"color\": \"y_i_minus_y_bar_squared\", \"id\": 1, \"y_i\": 91.0, \"y_hat_i\": 155.4403196194288, \"age\": 0.009015598825267658, \"sex\": 0.05068011873981862, \"bmi\": -0.039618128426111884, \"bp\": 0.028758087465735226, \"tc\": 0.03833367306762126, \"ldl\": 0.07352860494148013, \"hdl\": -0.07285394808472044, \"tch\": 0.10811110062954676, \"ltg\": 0.015568459328120622, \"glu\": -0.04664087356364498, \"liney2\": 161.4, \"squarex2\": 126.2, \"squarey2\": 161.4}, {\"linediff\": -15.200000000000003, \"x\": 111.0, \"y\": 126.2, \"squarediff\": 15.200000000000003, \"color\": \"y_i_minus_y_bar_squared\", \"id\": 2, \"y_i\": 111.0, \"y_hat_i\": 172.88875143544294, \"age\": 0.001750521923228816, \"sex\": 0.05068011873981862, \"bmi\": 0.011039039046285686, \"bp\": -0.019441826196154435, \"tc\": -0.016704441260423575, \"ldl\": -0.0038190651205350003, \"hdl\": -0.04708248345611185, \"tch\": 0.03430885887772673, \"ltg\": 0.024055085357995654, \"glu\": 0.02377494398854077, \"liney2\": 141.4, \"squarex2\": 126.2, \"squarey2\": 141.4}, {\"linediff\": 25.799999999999997, \"x\": 152.0, \"y\": 126.2, \"squarediff\": 25.799999999999997, \"color\": \"y_i_minus_y_bar_squared\", \"id\": 3, \"y_i\": 152.0, \"y_hat_i\": 111.53270644638727, \"age\": -0.07816532399919843, \"sex\": -0.044641636506989144, \"bmi\": -0.040695940499992665, \"bp\": -0.08141314376144114, \"tc\": -0.10063756561069194, \"ldl\": -0.11279472982329314, \"hdl\": 0.022868634821540033, \"tch\": -0.0763945037500033, \"ltg\": -0.020292321339471356, \"glu\": -0.05078298047847944, \"liney2\": 152.0, \"squarex2\": 177.8, \"squarey2\": 152.0}, {\"linediff\": -6.200000000000003, \"x\": 120.0, \"y\": 126.2, \"squarediff\": 6.200000000000003, \"color\": \"y_i_minus_y_bar_squared\", \"id\": 4, \"y_i\": 120.0, \"y_hat_i\": 164.793973011224, \"age\": 0.03081082953138418, \"sex\": 0.05068011873981862, \"bmi\": -0.03422906805670789, \"bp\": 0.04366563219116252, \"tc\": 0.05759701308243695, \"ldl\": 0.0688313780146371, \"hdl\": -0.03235593223976409, \"tch\": 0.05755656502955003, \"ltg\": 0.03545870422305857, \"glu\": 0.0859065477110576, \"liney2\": 132.4, \"squarex2\": 126.2, \"squarey2\": 132.4}, {\"linediff\": -59.2, \"x\": 67.0, \"y\": 126.2, \"squarediff\": 59.2, \"color\": \"y_i_minus_y_bar_squared\", \"id\": 5, \"y_i\": 67.0, \"y_hat_i\": 131.06765868563747, \"age\": -0.03457486258696539, \"sex\": 0.05068011873981862, \"bmi\": 0.005649978676881689, \"bp\": -0.00567042229275739, \"tc\": -0.07311850844666953, \"ldl\": -0.06269097593696756, \"hdl\": -0.006584467611155497, \"tch\": -0.03949338287409329, \"ltg\": -0.04542403773513769, \"glu\": 0.03205915781820968, \"liney2\": 185.4, \"squarex2\": 126.2, \"squarey2\": 185.4}, {\"linediff\": 183.8, \"x\": 310.0, \"y\": 126.2, \"squarediff\": 183.8, \"color\": \"y_i_minus_y_bar_squared\", \"id\": 6, \"y_i\": 310.0, \"y_hat_i\": 259.12441219300695, \"age\": 0.04897352178648128, \"sex\": 0.05068011873981862, \"bmi\": 0.08864150836570328, \"bp\": 0.08728655405517267, \"tc\": 0.03558176735121902, \"ldl\": 0.02154596028441731, \"hdl\": -0.024992656631590206, \"tch\": 0.03430885887772673, \"ltg\": 0.06605066658209234, \"glu\": 0.13146972377423663, \"liney2\": 310.0, \"squarex2\": 493.8, \"squarey2\": 310.0}, {\"linediff\": -32.2, \"x\": 94.0, \"y\": 126.2, \"squarediff\": 32.2, \"color\": \"y_i_minus_y_bar_squared\", \"id\": 7, \"y_i\": 94.0, \"y_hat_i\": 100.47873745848827, \"age\": -0.04183993948900423, \"sex\": -0.044641636506989144, \"bmi\": -0.033151255982827074, \"bp\": -0.0228846771720037, \"tc\": 0.04658939021682799, \"ldl\": 0.041587461838947556, \"hdl\": 0.05600337505832251, \"tch\": -0.024732934523729287, \"ltg\": -0.025953110560258, \"glu\": -0.03835665973397607, \"liney2\": 158.4, \"squarex2\": 126.2, \"squarey2\": 158.4}, {\"linediff\": 56.8, \"x\": 183.0, \"y\": 126.2, \"squarediff\": 56.8, \"color\": \"y_i_minus_y_bar_squared\", \"id\": 8, \"y_i\": 183.0, \"y_hat_i\": 117.06005372050254, \"age\": -0.009147093429829445, \"sex\": -0.044641636506989144, \"bmi\": -0.05686312160820465, \"bp\": -0.05042748497879779, \"tc\": 0.02182223876920781, \"ldl\": 0.04534524338042199, \"hdl\": -0.028674294435677143, \"tch\": 0.03430885887772673, \"ltg\": -0.009918765569334137, \"glu\": -0.01764612515980379, \"liney2\": 183.0, \"squarex2\": 239.8, \"squarey2\": 183.0}, {\"linediff\": -60.2, \"x\": 66.0, \"y\": 126.2, \"squarediff\": 60.2, \"color\": \"y_i_minus_y_bar_squared\", \"id\": 9, \"y_i\": 66.0, \"y_hat_i\": 124.3026159730496, \"age\": 0.0707687524925978, \"sex\": 0.05068011873981862, \"bmi\": -0.03099563183506548, \"bp\": 0.0218723855140367, \"tc\": -0.037343734133440394, \"ldl\": -0.047033552847490806, \"hdl\": 0.033913548233800855, \"tch\": -0.03949338287409329, \"ltg\": -0.014959693812643405, \"glu\": -0.0010776975004659671, \"liney2\": 186.4, \"squarex2\": 126.2, \"squarey2\": 186.4}, {\"linediff\": 46.8, \"x\": 173.0, \"y\": 126.2, \"squarediff\": 46.8, \"color\": \"y_i_minus_y_bar_squared\", \"id\": 10, \"y_i\": 173.0, \"y_hat_i\": 218.36868145767403, \"age\": 0.009015598825267658, \"sex\": -0.044641636506989144, \"bmi\": 0.055229334075398484, \"bp\": -0.00567042229275739, \"tc\": 0.05759701308243695, \"ldl\": 0.04471894645684291, \"hdl\": -0.002902829807068556, \"tch\": 0.023238522614953735, \"ltg\": 0.05568622641456506, \"glu\": 0.1066170822852299, \"liney2\": 173.0, \"squarex2\": 219.8, \"squarey2\": 173.0}, {\"linediff\": -54.2, \"x\": 72.0, \"y\": 126.2, \"squarediff\": 54.2, \"color\": \"y_i_minus_y_bar_squared\", \"id\": 11, \"y_i\": 72.0, \"y_hat_i\": 61.19581944175991, \"age\": -0.027309785684926546, \"sex\": -0.044641636506989144, \"bmi\": -0.06009655782984706, \"bp\": -0.029770379123702218, \"tc\": 0.04658939021682799, \"ldl\": 0.019980217975469634, \"hdl\": 0.12227285553188745, \"tch\": -0.03949338287409329, \"ltg\": -0.05140387304727299, \"glu\": -0.009361911330134878, \"liney2\": 180.4, \"squarex2\": 126.2, \"squarey2\": 180.4}, {\"linediff\": -77.2, \"x\": 49.0, \"y\": 126.2, \"squarediff\": 77.2, \"color\": \"y_i_minus_y_bar_squared\", \"id\": 12, \"y_i\": 49.0, \"y_hat_i\": 132.24837932841834, \"age\": 0.016280675727306498, \"sex\": -0.044641636506989144, \"bmi\": 0.0013387303813585058, \"bp\": 0.008100981610639655, \"tc\": 0.005310804470794357, \"ldl\": 0.010898912583573148, \"hdl\": 0.030231910429713918, \"tch\": -0.03949338287409329, \"ltg\": -0.04542403773513769, \"glu\": 0.03205915781820968, \"liney2\": 203.4, \"squarex2\": 126.2, \"squarey2\": 203.4}, {\"linediff\": -62.2, \"x\": 64.0, \"y\": 126.2, \"squarediff\": 62.2, \"color\": \"y_i_minus_y_bar_squared\", \"id\": 13, \"y_i\": 64.0, \"y_hat_i\": 120.33293545686966, \"age\": -0.012779631880848867, \"sex\": -0.044641636506989144, \"bmi\": -0.023450947317899894, \"bp\": -0.04009893205125, \"tc\": -0.016704441260423575, \"ldl\": 0.00463594334778245, \"hdl\": -0.01762938102341632, \"tch\": -0.002592261998183278, \"ltg\": -0.03845971734112638, \"glu\": -0.03835665973397607, \"liney2\": 188.4, \"squarex2\": 126.2, \"squarey2\": 188.4}, {\"linediff\": -78.2, \"x\": 48.0, \"y\": 126.2, \"squarediff\": 78.2, \"color\": \"y_i_minus_y_bar_squared\", \"id\": 14, \"y_i\": 48.0, \"y_hat_i\": 52.5451300875427, \"age\": -0.056370093293081916, \"sex\": -0.044641636506989144, \"bmi\": -0.07410811479029747, \"bp\": -0.05042748497879779, \"tc\": -0.0249601584096303, \"ldl\": -0.047033552847490806, \"hdl\": 0.09281975309919192, \"tch\": -0.0763945037500033, \"ltg\": -0.061175799045152635, \"glu\": -0.04664087356364498, \"liney2\": 204.4, \"squarex2\": 126.2, \"squarey2\": 204.4}, {\"linediff\": 51.8, \"x\": 178.0, \"y\": 126.2, \"squarediff\": 51.8, \"color\": \"y_i_minus_y_bar_squared\", \"id\": 15, \"y_i\": 178.0, \"y_hat_i\": 194.03746763935754, \"age\": 0.04170844488444244, \"sex\": 0.05068011873981862, \"bmi\": 0.01966153563733209, \"bp\": 0.059743746248378575, \"tc\": -0.005696818394814609, \"ldl\": -0.0025664712733768653, \"hdl\": -0.028674294435677143, \"tch\": -0.002592261998183278, \"ltg\": 0.031192602201596156, \"glu\": 0.007206516329202944, \"liney2\": 178.0, \"squarex2\": 229.8, \"squarey2\": 178.0}, {\"linediff\": -22.200000000000003, \"x\": 104.0, \"y\": 126.2, \"squarediff\": 22.200000000000003, \"color\": \"y_i_minus_y_bar_squared\", \"id\": 16, \"y_i\": 104.0, \"y_hat_i\": 102.5756430994735, \"age\": -0.005514554978810025, \"sex\": 0.05068011873981862, \"bmi\": -0.015906262800734303, \"bp\": -0.06764173985804409, \"tc\": 0.04934129593323023, \"ldl\": 0.07916527725369175, \"hdl\": -0.028674294435677143, \"tch\": 0.03430885887772673, \"ltg\": -0.018113692315690322, \"glu\": 0.044485478562713045, \"liney2\": 148.4, \"squarex2\": 126.2, \"squarey2\": 148.4}, {\"linediff\": 5.799999999999997, \"x\": 132.0, \"y\": 126.2, \"squarediff\": 5.799999999999997, \"color\": \"y_i_minus_y_bar_squared\", \"id\": 17, \"y_i\": 132.0, \"y_hat_i\": 123.56778709248869, \"age\": 0.04170844488444244, \"sex\": 0.05068011873981862, \"bmi\": -0.015906262800734303, \"bp\": 0.01729339371615719, \"tc\": -0.037343734133440394, \"ldl\": -0.013839815897800126, \"hdl\": -0.024992656631590206, \"tch\": -0.011079519799642579, \"ltg\": -0.04688253415273158, \"glu\": 0.015490730158871856, \"liney2\": 132.0, \"squarex2\": 137.8, \"squarey2\": 132.0}, {\"linediff\": 93.8, \"x\": 220.0, \"y\": 126.2, \"squarediff\": 93.8, \"color\": \"y_i_minus_y_bar_squared\", \"id\": 18, \"y_i\": 220.0, \"y_hat_i\": 211.0346532294693, \"age\": -0.045472477940023646, \"sex\": -0.044641636506989144, \"bmi\": 0.039062152967186486, \"bp\": 0.0012152796589411327, \"tc\": 0.016318427336403322, \"ldl\": 0.015282991048626631, \"hdl\": -0.028674294435677143, \"tch\": 0.02655962349378563, \"ltg\": 0.04452872881997113, \"glu\": -0.025930338989472702, \"liney2\": 220.0, \"squarex2\": 313.8, \"squarey2\": 220.0}, {\"linediff\": -69.2, \"x\": 57.0, \"y\": 126.2, \"squarediff\": 69.2, \"color\": \"y_i_minus_y_bar_squared\", \"id\": 19, \"y_i\": 57.0, \"y_hat_i\": 52.60221695919573, \"age\": -0.045472477940023646, \"sex\": -0.044641636506989144, \"bmi\": -0.07303030271641665, \"bp\": -0.08141314376144114, \"tc\": 0.08374011738825825, \"ldl\": 0.027808929520208008, \"hdl\": 0.17381578478910462, \"tch\": -0.03949338287409329, \"ltg\": -0.00422151393810765, \"glu\": 0.0030644094143684884, \"liney2\": 195.4, \"squarex2\": 126.2, \"squarey2\": 195.4}], \"data-15c23951f16b3a566089d867aff67034\": [{\"x\": 0.0, \"y\": 0.0}, {\"x\": 543.1800000000001, \"y\": 543.1800000000001}], \"data-a967c8566b995fd699e649e29c191db6\": [{\"linediff\": 35.38101513832618, \"x\": 233.0, \"y\": 197.61898486167382, \"squarediff\": 35.38101513832618, \"color\": \"y_i_minus_y_hat_i_squared\", \"id\": 0, \"y_i\": 233.0, \"y_hat_i\": 197.61898486167382, \"age\": -0.07816532399919843, \"sex\": 0.05068011873981862, \"bmi\": 0.07786338762689529, \"bp\": 0.052858044296680055, \"tc\": 0.07823630595545376, \"ldl\": 0.0644472995495836, \"hdl\": 0.026550272625626974, \"tch\": -0.002592261998183278, \"ltg\": 0.04067282891595704, \"glu\": -0.009361911330134878, \"liney2\": 233.0, \"squarex2\": 268.3810151383262, \"squarey2\": 233.0}, {\"linediff\": -64.4403196194288, \"x\": 91.0, \"y\": 155.4403196194288, \"squarediff\": 64.4403196194288, \"color\": \"y_i_minus_y_hat_i_squared\", \"id\": 1, \"y_i\": 91.0, \"y_hat_i\": 155.4403196194288, \"age\": 0.009015598825267658, \"sex\": 0.05068011873981862, \"bmi\": -0.039618128426111884, \"bp\": 0.028758087465735226, \"tc\": 0.03833367306762126, \"ldl\": 0.07352860494148013, \"hdl\": -0.07285394808472044, \"tch\": 0.10811110062954676, \"ltg\": 0.015568459328120622, \"glu\": -0.04664087356364498, \"liney2\": 219.8806392388576, \"squarex2\": 155.4403196194288, \"squarey2\": 219.8806392388576}, {\"linediff\": -61.88875143544294, \"x\": 111.0, \"y\": 172.88875143544294, \"squarediff\": 61.88875143544294, \"color\": \"y_i_minus_y_hat_i_squared\", \"id\": 2, \"y_i\": 111.0, \"y_hat_i\": 172.88875143544294, \"age\": 0.001750521923228816, \"sex\": 0.05068011873981862, \"bmi\": 0.011039039046285686, \"bp\": -0.019441826196154435, \"tc\": -0.016704441260423575, \"ldl\": -0.0038190651205350003, \"hdl\": -0.04708248345611185, \"tch\": 0.03430885887772673, \"ltg\": 0.024055085357995654, \"glu\": 0.02377494398854077, \"liney2\": 234.77750287088588, \"squarex2\": 172.88875143544294, \"squarey2\": 234.77750287088588}, {\"linediff\": 40.467293553612734, \"x\": 152.0, \"y\": 111.53270644638727, \"squarediff\": 40.467293553612734, \"color\": \"y_i_minus_y_hat_i_squared\", \"id\": 3, \"y_i\": 152.0, \"y_hat_i\": 111.53270644638727, \"age\": -0.07816532399919843, \"sex\": -0.044641636506989144, \"bmi\": -0.040695940499992665, \"bp\": -0.08141314376144114, \"tc\": -0.10063756561069194, \"ldl\": -0.11279472982329314, \"hdl\": 0.022868634821540033, \"tch\": -0.0763945037500033, \"ltg\": -0.020292321339471356, \"glu\": -0.05078298047847944, \"liney2\": 152.0, \"squarex2\": 192.46729355361273, \"squarey2\": 152.0}, {\"linediff\": -44.79397301122401, \"x\": 120.0, \"y\": 164.793973011224, \"squarediff\": 44.79397301122401, \"color\": \"y_i_minus_y_hat_i_squared\", \"id\": 4, \"y_i\": 120.0, \"y_hat_i\": 164.793973011224, \"age\": 0.03081082953138418, \"sex\": 0.05068011873981862, \"bmi\": -0.03422906805670789, \"bp\": 0.04366563219116252, \"tc\": 0.05759701308243695, \"ldl\": 0.0688313780146371, \"hdl\": -0.03235593223976409, \"tch\": 0.05755656502955003, \"ltg\": 0.03545870422305857, \"glu\": 0.0859065477110576, \"liney2\": 209.58794602244802, \"squarex2\": 164.793973011224, \"squarey2\": 209.58794602244802}, {\"linediff\": -64.06765868563747, \"x\": 67.0, \"y\": 131.06765868563747, \"squarediff\": 64.06765868563747, \"color\": \"y_i_minus_y_hat_i_squared\", \"id\": 5, \"y_i\": 67.0, \"y_hat_i\": 131.06765868563747, \"age\": -0.03457486258696539, \"sex\": 0.05068011873981862, \"bmi\": 0.005649978676881689, \"bp\": -0.00567042229275739, \"tc\": -0.07311850844666953, \"ldl\": -0.06269097593696756, \"hdl\": -0.006584467611155497, \"tch\": -0.03949338287409329, \"ltg\": -0.04542403773513769, \"glu\": 0.03205915781820968, \"liney2\": 195.13531737127494, \"squarex2\": 131.06765868563747, \"squarey2\": 195.13531737127494}, {\"linediff\": 50.87558780699305, \"x\": 310.0, \"y\": 259.12441219300695, \"squarediff\": 50.87558780699305, \"color\": \"y_i_minus_y_hat_i_squared\", \"id\": 6, \"y_i\": 310.0, \"y_hat_i\": 259.12441219300695, \"age\": 0.04897352178648128, \"sex\": 0.05068011873981862, \"bmi\": 0.08864150836570328, \"bp\": 0.08728655405517267, \"tc\": 0.03558176735121902, \"ldl\": 0.02154596028441731, \"hdl\": -0.024992656631590206, \"tch\": 0.03430885887772673, \"ltg\": 0.06605066658209234, \"glu\": 0.13146972377423663, \"liney2\": 310.0, \"squarex2\": 360.87558780699305, \"squarey2\": 310.0}, {\"linediff\": -6.478737458488268, \"x\": 94.0, \"y\": 100.47873745848827, \"squarediff\": 6.478737458488268, \"color\": \"y_i_minus_y_hat_i_squared\", \"id\": 7, \"y_i\": 94.0, \"y_hat_i\": 100.47873745848827, \"age\": -0.04183993948900423, \"sex\": -0.044641636506989144, \"bmi\": -0.033151255982827074, \"bp\": -0.0228846771720037, \"tc\": 0.04658939021682799, \"ldl\": 0.041587461838947556, \"hdl\": 0.05600337505832251, \"tch\": -0.024732934523729287, \"ltg\": -0.025953110560258, \"glu\": -0.03835665973397607, \"liney2\": 106.95747491697654, \"squarex2\": 100.47873745848827, \"squarey2\": 106.95747491697654}, {\"linediff\": 65.93994627949746, \"x\": 183.0, \"y\": 117.06005372050254, \"squarediff\": 65.93994627949746, \"color\": \"y_i_minus_y_hat_i_squared\", \"id\": 8, \"y_i\": 183.0, \"y_hat_i\": 117.06005372050254, \"age\": -0.009147093429829445, \"sex\": -0.044641636506989144, \"bmi\": -0.05686312160820465, \"bp\": -0.05042748497879779, \"tc\": 0.02182223876920781, \"ldl\": 0.04534524338042199, \"hdl\": -0.028674294435677143, \"tch\": 0.03430885887772673, \"ltg\": -0.009918765569334137, \"glu\": -0.01764612515980379, \"liney2\": 183.0, \"squarex2\": 248.93994627949746, \"squarey2\": 183.0}, {\"linediff\": -58.3026159730496, \"x\": 66.0, \"y\": 124.3026159730496, \"squarediff\": 58.3026159730496, \"color\": \"y_i_minus_y_hat_i_squared\", \"id\": 9, \"y_i\": 66.0, \"y_hat_i\": 124.3026159730496, \"age\": 0.0707687524925978, \"sex\": 0.05068011873981862, \"bmi\": -0.03099563183506548, \"bp\": 0.0218723855140367, \"tc\": -0.037343734133440394, \"ldl\": -0.047033552847490806, \"hdl\": 0.033913548233800855, \"tch\": -0.03949338287409329, \"ltg\": -0.014959693812643405, \"glu\": -0.0010776975004659671, \"liney2\": 182.6052319460992, \"squarex2\": 124.3026159730496, \"squarey2\": 182.6052319460992}, {\"linediff\": -45.36868145767403, \"x\": 173.0, \"y\": 218.36868145767403, \"squarediff\": 45.36868145767403, \"color\": \"y_i_minus_y_hat_i_squared\", \"id\": 10, \"y_i\": 173.0, \"y_hat_i\": 218.36868145767403, \"age\": 0.009015598825267658, \"sex\": -0.044641636506989144, \"bmi\": 0.055229334075398484, \"bp\": -0.00567042229275739, \"tc\": 0.05759701308243695, \"ldl\": 0.04471894645684291, \"hdl\": -0.002902829807068556, \"tch\": 0.023238522614953735, \"ltg\": 0.05568622641456506, \"glu\": 0.1066170822852299, \"liney2\": 263.73736291534806, \"squarex2\": 218.36868145767403, \"squarey2\": 263.73736291534806}, {\"linediff\": 10.804180558240091, \"x\": 72.0, \"y\": 61.19581944175991, \"squarediff\": 10.804180558240091, \"color\": \"y_i_minus_y_hat_i_squared\", \"id\": 11, \"y_i\": 72.0, \"y_hat_i\": 61.19581944175991, \"age\": -0.027309785684926546, \"sex\": -0.044641636506989144, \"bmi\": -0.06009655782984706, \"bp\": -0.029770379123702218, \"tc\": 0.04658939021682799, \"ldl\": 0.019980217975469634, \"hdl\": 0.12227285553188745, \"tch\": -0.03949338287409329, \"ltg\": -0.05140387304727299, \"glu\": -0.009361911330134878, \"liney2\": 72.0, \"squarex2\": 82.80418055824009, \"squarey2\": 72.0}, {\"linediff\": -83.24837932841834, \"x\": 49.0, \"y\": 132.24837932841834, \"squarediff\": 83.24837932841834, \"color\": \"y_i_minus_y_hat_i_squared\", \"id\": 12, \"y_i\": 49.0, \"y_hat_i\": 132.24837932841834, \"age\": 0.016280675727306498, \"sex\": -0.044641636506989144, \"bmi\": 0.0013387303813585058, \"bp\": 0.008100981610639655, \"tc\": 0.005310804470794357, \"ldl\": 0.010898912583573148, \"hdl\": 0.030231910429713918, \"tch\": -0.03949338287409329, \"ltg\": -0.04542403773513769, \"glu\": 0.03205915781820968, \"liney2\": 215.49675865683668, \"squarex2\": 132.24837932841834, \"squarey2\": 215.49675865683668}, {\"linediff\": -56.33293545686966, \"x\": 64.0, \"y\": 120.33293545686966, \"squarediff\": 56.33293545686966, \"color\": \"y_i_minus_y_hat_i_squared\", \"id\": 13, \"y_i\": 64.0, \"y_hat_i\": 120.33293545686966, \"age\": -0.012779631880848867, \"sex\": -0.044641636506989144, \"bmi\": -0.023450947317899894, \"bp\": -0.04009893205125, \"tc\": -0.016704441260423575, \"ldl\": 0.00463594334778245, \"hdl\": -0.01762938102341632, \"tch\": -0.002592261998183278, \"ltg\": -0.03845971734112638, \"glu\": -0.03835665973397607, \"liney2\": 176.66587091373933, \"squarex2\": 120.33293545686966, \"squarey2\": 176.66587091373933}, {\"linediff\": -4.545130087542702, \"x\": 48.0, \"y\": 52.5451300875427, \"squarediff\": 4.545130087542702, \"color\": \"y_i_minus_y_hat_i_squared\", \"id\": 14, \"y_i\": 48.0, \"y_hat_i\": 52.5451300875427, \"age\": -0.056370093293081916, \"sex\": -0.044641636506989144, \"bmi\": -0.07410811479029747, \"bp\": -0.05042748497879779, \"tc\": -0.0249601584096303, \"ldl\": -0.047033552847490806, \"hdl\": 0.09281975309919192, \"tch\": -0.0763945037500033, \"ltg\": -0.061175799045152635, \"glu\": -0.04664087356364498, \"liney2\": 57.090260175085405, \"squarex2\": 52.5451300875427, \"squarey2\": 57.090260175085405}, {\"linediff\": -16.037467639357544, \"x\": 178.0, \"y\": 194.03746763935754, \"squarediff\": 16.037467639357544, \"color\": \"y_i_minus_y_hat_i_squared\", \"id\": 15, \"y_i\": 178.0, \"y_hat_i\": 194.03746763935754, \"age\": 0.04170844488444244, \"sex\": 0.05068011873981862, \"bmi\": 0.01966153563733209, \"bp\": 0.059743746248378575, \"tc\": -0.005696818394814609, \"ldl\": -0.0025664712733768653, \"hdl\": -0.028674294435677143, \"tch\": -0.002592261998183278, \"ltg\": 0.031192602201596156, \"glu\": 0.007206516329202944, \"liney2\": 210.0749352787151, \"squarex2\": 194.03746763935754, \"squarey2\": 210.0749352787151}, {\"linediff\": 1.4243569005265044, \"x\": 104.0, \"y\": 102.5756430994735, \"squarediff\": 1.4243569005265044, \"color\": \"y_i_minus_y_hat_i_squared\", \"id\": 16, \"y_i\": 104.0, \"y_hat_i\": 102.5756430994735, \"age\": -0.005514554978810025, \"sex\": 0.05068011873981862, \"bmi\": -0.015906262800734303, \"bp\": -0.06764173985804409, \"tc\": 0.04934129593323023, \"ldl\": 0.07916527725369175, \"hdl\": -0.028674294435677143, \"tch\": 0.03430885887772673, \"ltg\": -0.018113692315690322, \"glu\": 0.044485478562713045, \"liney2\": 104.0, \"squarex2\": 105.4243569005265, \"squarey2\": 104.0}, {\"linediff\": 8.432212907511314, \"x\": 132.0, \"y\": 123.56778709248869, \"squarediff\": 8.432212907511314, \"color\": \"y_i_minus_y_hat_i_squared\", \"id\": 17, \"y_i\": 132.0, \"y_hat_i\": 123.56778709248869, \"age\": 0.04170844488444244, \"sex\": 0.05068011873981862, \"bmi\": -0.015906262800734303, \"bp\": 0.01729339371615719, \"tc\": -0.037343734133440394, \"ldl\": -0.013839815897800126, \"hdl\": -0.024992656631590206, \"tch\": -0.011079519799642579, \"ltg\": -0.04688253415273158, \"glu\": 0.015490730158871856, \"liney2\": 132.0, \"squarex2\": 140.4322129075113, \"squarey2\": 132.0}, {\"linediff\": 8.965346770530687, \"x\": 220.0, \"y\": 211.0346532294693, \"squarediff\": 8.965346770530687, \"color\": \"y_i_minus_y_hat_i_squared\", \"id\": 18, \"y_i\": 220.0, \"y_hat_i\": 211.0346532294693, \"age\": -0.045472477940023646, \"sex\": -0.044641636506989144, \"bmi\": 0.039062152967186486, \"bp\": 0.0012152796589411327, \"tc\": 0.016318427336403322, \"ldl\": 0.015282991048626631, \"hdl\": -0.028674294435677143, \"tch\": 0.02655962349378563, \"ltg\": 0.04452872881997113, \"glu\": -0.025930338989472702, \"liney2\": 220.0, \"squarex2\": 228.9653467705307, \"squarey2\": 220.0}, {\"linediff\": 4.397783040804271, \"x\": 57.0, \"y\": 52.60221695919573, \"squarediff\": 4.397783040804271, \"color\": \"y_i_minus_y_hat_i_squared\", \"id\": 19, \"y_i\": 57.0, \"y_hat_i\": 52.60221695919573, \"age\": -0.045472477940023646, \"sex\": -0.044641636506989144, \"bmi\": -0.07303030271641665, \"bp\": -0.08141314376144114, \"tc\": 0.08374011738825825, \"ldl\": 0.027808929520208008, \"hdl\": 0.17381578478910462, \"tch\": -0.03949338287409329, \"ltg\": -0.00422151393810765, \"glu\": 0.0030644094143684884, \"liney2\": 57.0, \"squarex2\": 61.39778304080427, \"squarey2\": 57.0}], \"data-e0a81cc6e9a9e11fc25e1a30be8251a5\": [{\"x\": 0.0, \"y\": 0.0}, {\"x\": 396.9631465876924, \"y\": 396.9631465876924}], \"data-b9d7f3e64fe074de11db329c5602a028\": [{\"scalar_values\": 40090.373726684185, \"scalar_names\": \"ss_res\"}, {\"scalar_values\": 96623.20000000001, \"scalar_names\": \"ss_tot\"}], \"data-5f5f0f9e76787707779c88d0016b4662\": [{\"__x__\": 26.0, \"__x2__\": 58.55164315279542, \"__y__\": 400.90373726684186, \"__y2__\": 5033.640547715391, \"color\": \"y_i_minus_y_hat_i_squared\", \"part of\": \"ss_res\", \"id\": 0, \"y_i\": 233.0, \"y_hat_i\": 197.61898486167382, \"age\": -0.07816532399919843, \"sex\": 0.05068011873981862, \"bmi\": 0.07786338762689529, \"bp\": 0.052858044296680055, \"tc\": 0.07823630595545376, \"ldl\": 0.0644472995495836, \"hdl\": 0.026550272625626974, \"tch\": -0.002592261998183278, \"ltg\": 0.04067282891595704, \"glu\": -0.009361911330134878}, {\"__x__\": 26.0, \"__x2__\": 58.55164315279542, \"__y__\": 5835.448022249076, \"__y2__\": 23061.241033851067, \"color\": \"y_i_minus_y_hat_i_squared\", \"part of\": \"ss_res\", \"id\": 1, \"y_i\": 91.0, \"y_hat_i\": 155.4403196194288, \"age\": 0.009015598825267658, \"sex\": 0.05068011873981862, \"bmi\": -0.039618128426111884, \"bp\": 0.028758087465735226, \"tc\": 0.03833367306762126, \"ldl\": 0.07352860494148013, \"hdl\": -0.07285394808472044, \"tch\": 0.10811110062954676, \"ltg\": 0.015568459328120622, \"glu\": -0.04664087356364498}, {\"__x__\": 26.0, \"__x2__\": 58.55164315279542, \"__y__\": 23863.048508384752, \"__y2__\": 39689.46998941735, \"color\": \"y_i_minus_y_hat_i_squared\", \"part of\": \"ss_res\", \"id\": 2, \"y_i\": 111.0, \"y_hat_i\": 172.88875143544294, \"age\": 0.001750521923228816, \"sex\": 0.05068011873981862, \"bmi\": 0.011039039046285686, \"bp\": -0.019441826196154435, \"tc\": -0.016704441260423575, \"ldl\": -0.0038190651205350003, \"hdl\": -0.04708248345611185, \"tch\": 0.03430885887772673, \"ltg\": 0.024055085357995654, \"glu\": 0.02377494398854077}, {\"__x__\": 60.55164315279542, \"__x2__\": 87.54401476787822, \"__y__\": 400.90373726684186, \"__y2__\": 8071.679340598703, \"color\": \"y_i_minus_y_hat_i_squared\", \"part of\": \"ss_res\", \"id\": 3, \"y_i\": 152.0, \"y_hat_i\": 111.53270644638727, \"age\": -0.07816532399919843, \"sex\": -0.044641636506989144, \"bmi\": -0.040695940499992665, \"bp\": -0.08141314376144114, \"tc\": -0.10063756561069194, \"ldl\": -0.11279472982329314, \"hdl\": 0.022868634821540033, \"tch\": -0.0763945037500033, \"ltg\": -0.020292321339471356, \"glu\": -0.05078298047847944}, {\"__x__\": 60.55164315279542, \"__x2__\": 87.54401476787822, \"__y__\": 8873.486815132386, \"__y2__\": 18452.858456106533, \"color\": \"y_i_minus_y_hat_i_squared\", \"part of\": \"ss_res\", \"id\": 4, \"y_i\": 120.0, \"y_hat_i\": 164.793973011224, \"age\": 0.03081082953138418, \"sex\": 0.05068011873981862, \"bmi\": -0.03422906805670789, \"bp\": 0.04366563219116252, \"tc\": 0.05759701308243695, \"ldl\": 0.0688313780146371, \"hdl\": -0.03235593223976409, \"tch\": 0.05755656502955003, \"ltg\": 0.03545870422305857, \"glu\": 0.0859065477110576}, {\"__x__\": 60.55164315279542, \"__x2__\": 87.54401476787822, \"__y__\": 19254.665930640214, \"__y2__\": 39689.46998941735, \"color\": \"y_i_minus_y_hat_i_squared\", \"part of\": \"ss_res\", \"id\": 5, \"y_i\": 67.0, \"y_hat_i\": 131.06765868563747, \"age\": -0.03457486258696539, \"sex\": 0.05068011873981862, \"bmi\": 0.005649978676881689, \"bp\": -0.00567042229275739, \"tc\": -0.07311850844666953, \"ldl\": -0.06269097593696756, \"hdl\": -0.006584467611155497, \"tch\": -0.03949338287409329, \"ltg\": -0.04542403773513769, \"glu\": 0.03205915781820968}, {\"__x__\": 89.54401476787822, \"__x2__\": 174.0, \"__y__\": 400.90373726684186, \"__y2__\": 4089.8069308687095, \"color\": \"y_i_minus_y_hat_i_squared\", \"part of\": \"ss_res\", \"id\": 6, \"y_i\": 310.0, \"y_hat_i\": 259.12441219300695, \"age\": 0.04897352178648128, \"sex\": 0.05068011873981862, \"bmi\": 0.08864150836570328, \"bp\": 0.08728655405517267, \"tc\": 0.03558176735121902, \"ldl\": 0.02154596028441731, \"hdl\": -0.024992656631590206, \"tch\": 0.03430885887772673, \"ltg\": 0.06605066658209234, \"glu\": 0.13146972377423663}, {\"__x__\": 88.54401476787822, \"__x2__\": 89.37063552219354, \"__y__\": 4891.6144054023935, \"__y2__\": 11706.487041469, \"color\": \"y_i_minus_y_hat_i_squared\", \"part of\": \"ss_res\", \"id\": 7, \"y_i\": 94.0, \"y_hat_i\": 100.47873745848827, \"age\": -0.04183993948900423, \"sex\": -0.044641636506989144, \"bmi\": -0.033151255982827074, \"bp\": -0.0228846771720037, \"tc\": 0.04658939021682799, \"ldl\": 0.041587461838947556, \"hdl\": 0.05600337505832251, \"tch\": -0.024732934523729287, \"ltg\": -0.025953110560258, \"glu\": -0.03835665973397607}, {\"__x__\": 90.37063552219354, \"__x2__\": 174.0, \"__y__\": 4891.6144054023935, \"__y2__\": 11706.487041469, \"color\": \"y_i_minus_y_hat_i_squared\", \"part of\": \"ss_res\", \"id\": 8, \"y_i\": 183.0, \"y_hat_i\": 117.06005372050254, \"age\": -0.009147093429829445, \"sex\": -0.044641636506989144, \"bmi\": -0.05686312160820465, \"bp\": -0.05042748497879779, \"tc\": 0.02182223876920781, \"ldl\": 0.04534524338042199, \"hdl\": -0.028674294435677143, \"tch\": 0.03430885887772673, \"ltg\": -0.009918765569334137, \"glu\": -0.01764612515980379}, {\"__x__\": 89.54401476787822, \"__x2__\": 116.79846717915481, \"__y__\": 12508.294516002683, \"__y2__\": 29135.60337654673, \"color\": \"y_i_minus_y_hat_i_squared\", \"part of\": \"ss_res\", \"id\": 9, \"y_i\": 66.0, \"y_hat_i\": 124.3026159730496, \"age\": 0.0707687524925978, \"sex\": 0.05068011873981862, \"bmi\": -0.03099563183506548, \"bp\": 0.0218723855140367, \"tc\": -0.037343734133440394, \"ldl\": -0.047033552847490806, \"hdl\": 0.033913548233800855, \"tch\": -0.03949338287409329, \"ltg\": -0.014959693812643405, \"glu\": -0.0010776975004659671}, {\"__x__\": 89.54401476787822, \"__x2__\": 116.79846717915481, \"__y__\": 29937.410851080414, \"__y2__\": 39689.46998941735, \"color\": \"y_i_minus_y_hat_i_squared\", \"part of\": \"ss_res\", \"id\": 10, \"y_i\": 173.0, \"y_hat_i\": 218.36868145767403, \"age\": 0.009015598825267658, \"sex\": -0.044641636506989144, \"bmi\": 0.055229334075398484, \"bp\": -0.00567042229275739, \"tc\": 0.05759701308243695, \"ldl\": 0.04471894645684291, \"hdl\": -0.002902829807068556, \"tch\": 0.023238522614953735, \"ltg\": 0.05568622641456506, \"glu\": 0.1066170822852299}, {\"__x__\": 117.79846717915481, \"__x2__\": 118.74598120176962, \"__y__\": 12508.294516002683, \"__y2__\": 30185.94719968148, \"color\": \"y_i_minus_y_hat_i_squared\", \"part of\": \"ss_res\", \"id\": 11, \"y_i\": 72.0, \"y_hat_i\": 61.19581944175991, \"age\": -0.027309785684926546, \"sex\": -0.044641636506989144, \"bmi\": -0.06009655782984706, \"bp\": -0.029770379123702218, \"tc\": 0.04658939021682799, \"ldl\": 0.019980217975469634, \"hdl\": 0.12227285553188745, \"tch\": -0.03949338287409329, \"ltg\": -0.05140387304727299, \"glu\": -0.009361911330134878}, {\"__x__\": 119.74598120176962, \"__x2__\": 174.0, \"__y__\": 12508.294516002683, \"__y2__\": 30185.94719968148, \"color\": \"y_i_minus_y_hat_i_squared\", \"part of\": \"ss_res\", \"id\": 12, \"y_i\": 49.0, \"y_hat_i\": 132.24837932841834, \"age\": 0.016280675727306498, \"sex\": -0.044641636506989144, \"bmi\": 0.0013387303813585058, \"bp\": 0.008100981610639655, \"tc\": 0.005310804470794357, \"ldl\": 0.010898912583573148, \"hdl\": 0.030231910429713918, \"tch\": -0.03949338287409329, \"ltg\": -0.04542403773513769, \"glu\": 0.03205915781820968}, {\"__x__\": 118.79846717915481, \"__x2__\": 166.88620339127644, \"__y__\": 30987.75467421516, \"__y2__\": 39689.46998941735, \"color\": \"y_i_minus_y_hat_i_squared\", \"part of\": \"ss_res\", \"id\": 13, \"y_i\": 64.0, \"y_hat_i\": 120.33293545686966, \"age\": -0.012779631880848867, \"sex\": -0.044641636506989144, \"bmi\": -0.023450947317899894, \"bp\": -0.04009893205125, \"tc\": -0.016704441260423575, \"ldl\": 0.00463594334778245, \"hdl\": -0.01762938102341632, \"tch\": -0.002592261998183278, \"ltg\": -0.03845971734112638, \"glu\": -0.03835665973397607}, {\"__x__\": 168.88620339127644, \"__x2__\": 174.0, \"__y__\": 30586.850936948318, \"__y2__\": 31022.44550020909, \"color\": \"y_i_minus_y_hat_i_squared\", \"part of\": \"ss_res\", \"id\": 14, \"y_i\": 48.0, \"y_hat_i\": 52.5451300875427, \"age\": -0.056370093293081916, \"sex\": -0.044641636506989144, \"bmi\": -0.07410811479029747, \"bp\": -0.05042748497879779, \"tc\": -0.0249601584096303, \"ldl\": -0.047033552847490806, \"hdl\": 0.09281975309919192, \"tch\": -0.0763945037500033, \"ltg\": -0.061175799045152635, \"glu\": -0.04664087356364498}, {\"__x__\": 168.88620339127644, \"__x2__\": 174.0, \"__y__\": 31423.34923747593, \"__y2__\": 36044.813942976994, \"color\": \"y_i_minus_y_hat_i_squared\", \"part of\": \"ss_res\", \"id\": 15, \"y_i\": 178.0, \"y_hat_i\": 194.03746763935754, \"age\": 0.04170844488444244, \"sex\": 0.05068011873981862, \"bmi\": 0.01966153563733209, \"bp\": 0.059743746248378575, \"tc\": -0.005696818394814609, \"ldl\": -0.0025664712733768653, \"hdl\": -0.028674294435677143, \"tch\": -0.002592261998183278, \"ltg\": 0.031192602201596156, \"glu\": 0.007206516329202944}, {\"__x__\": 167.88620339127644, \"__x2__\": 168.08355357622168, \"__y__\": 36846.62141751068, \"__y2__\": 37586.838781190636, \"color\": \"y_i_minus_y_hat_i_squared\", \"part of\": \"ss_res\", \"id\": 16, \"y_i\": 104.0, \"y_hat_i\": 102.5756430994735, \"age\": -0.005514554978810025, \"sex\": 0.05068011873981862, \"bmi\": -0.015906262800734303, \"bp\": -0.06764173985804409, \"tc\": 0.04934129593323023, \"ldl\": 0.07916527725369175, \"hdl\": -0.028674294435677143, \"tch\": 0.03430885887772673, \"ltg\": -0.018113692315690322, \"glu\": 0.044485478562713045}, {\"__x__\": 169.08355357622168, \"__x2__\": 174.0, \"__y__\": 36846.62141751068, \"__y2__\": 37586.838781190636, \"color\": \"y_i_minus_y_hat_i_squared\", \"part of\": \"ss_res\", \"id\": 17, \"y_i\": 132.0, \"y_hat_i\": 123.56778709248869, \"age\": 0.04170844488444244, \"sex\": 0.05068011873981862, \"bmi\": -0.015906262800734303, \"bp\": 0.01729339371615719, \"tc\": -0.037343734133440394, \"ldl\": -0.013839815897800126, \"hdl\": -0.024992656631590206, \"tch\": -0.011079519799642579, \"ltg\": -0.04688253415273158, \"glu\": 0.015490730158871856}, {\"__x__\": 168.88620339127644, \"__x2__\": 172.6202647712309, \"__y__\": 38388.64625572432, \"__y2__\": 39689.46998941735, \"color\": \"y_i_minus_y_hat_i_squared\", \"part of\": \"ss_res\", \"id\": 18, \"y_i\": 220.0, \"y_hat_i\": 211.0346532294693, \"age\": -0.045472477940023646, \"sex\": -0.044641636506989144, \"bmi\": 0.039062152967186486, \"bp\": 0.0012152796589411327, \"tc\": 0.016318427336403322, \"ldl\": 0.015282991048626631, \"hdl\": -0.028674294435677143, \"tch\": 0.02655962349378563, \"ltg\": 0.04452872881997113, \"glu\": -0.025930338989472702}, {\"__x__\": 173.6202647712309, \"__x2__\": 175.00000000000003, \"__y__\": 38388.64625572432, \"__y2__\": 39689.469989415935, \"color\": \"y_i_minus_y_hat_i_squared\", \"part of\": \"ss_res\", \"id\": 19, \"y_i\": 57.0, \"y_hat_i\": 52.60221695919573, \"age\": -0.045472477940023646, \"sex\": -0.044641636506989144, \"bmi\": -0.07303030271641665, \"bp\": -0.08141314376144114, \"tc\": 0.08374011738825825, \"ldl\": 0.027808929520208008, \"hdl\": 0.17381578478910462, \"tch\": -0.03949338287409329, \"ltg\": -0.00422151393810765, \"glu\": 0.0030644094143684884}, {\"__x__\": 226.0, \"__x2__\": 243.6308133036372, \"__y__\": 966.2320000000001, \"__y2__\": 86189.40304865058, \"color\": \"y_i_minus_y_bar_squared\", \"part of\": \"ss_tot\", \"id\": 0, \"y_i\": 233.0, \"y_hat_i\": 197.61898486167382, \"age\": -0.07816532399919843, \"sex\": 0.05068011873981862, \"bmi\": 0.07786338762689529, \"bp\": 0.052858044296680055, \"tc\": 0.07823630595545376, \"ldl\": 0.0644472995495836, \"hdl\": 0.026550272625626974, \"tch\": -0.002592261998183278, \"ltg\": 0.04067282891595704, \"glu\": -0.009361911330134878}, {\"__x__\": 226.0, \"__x2__\": 243.6308133036372, \"__y__\": 88121.86704865057, \"__y2__\": 95656.96800000002, \"color\": \"y_i_minus_y_bar_squared\", \"part of\": \"ss_tot\", \"id\": 1, \"y_i\": 91.0, \"y_hat_i\": 155.4403196194288, \"age\": 0.009015598825267658, \"sex\": 0.05068011873981862, \"bmi\": -0.039618128426111884, \"bp\": 0.028758087465735226, \"tc\": 0.03833367306762126, \"ldl\": 0.07352860494148013, \"hdl\": -0.07285394808472044, \"tch\": 0.10811110062954676, \"ltg\": 0.015568459328120622, \"glu\": -0.04664087356364498}, {\"__x__\": 245.6308133036372, \"__x2__\": 250.5231952574537, \"__y__\": 966.2320000000001, \"__y2__\": 4061.928109555474, \"color\": \"y_i_minus_y_bar_squared\", \"part of\": \"ss_tot\", \"id\": 2, \"y_i\": 111.0, \"y_hat_i\": 172.88875143544294, \"age\": 0.001750521923228816, \"sex\": 0.05068011873981862, \"bmi\": 0.011039039046285686, \"bp\": -0.019441826196154435, \"tc\": -0.016704441260423575, \"ldl\": -0.0038190651205350003, \"hdl\": -0.04708248345611185, \"tch\": 0.03430885887772673, \"ltg\": 0.024055085357995654, \"glu\": 0.02377494398854077}, {\"__x__\": 245.6308133036372, \"__x2__\": 250.5231952574537, \"__y__\": 5994.392109555474, \"__y2__\": 18548.35684624394, \"color\": \"y_i_minus_y_bar_squared\", \"part of\": \"ss_tot\", \"id\": 3, \"y_i\": 152.0, \"y_hat_i\": 111.53270644638727, \"age\": -0.07816532399919843, \"sex\": -0.044641636506989144, \"bmi\": -0.040695940499992665, \"bp\": -0.08141314376144114, \"tc\": -0.10063756561069194, \"ldl\": -0.11279472982329314, \"hdl\": 0.022868634821540033, \"tch\": -0.0763945037500033, \"ltg\": -0.020292321339471356, \"glu\": -0.05078298047847944}, {\"__x__\": 245.6308133036372, \"__x2__\": 250.5231952574537, \"__y__\": 19514.58884624394, \"__y2__\": 20351.16465394526, \"color\": \"y_i_minus_y_bar_squared\", \"part of\": \"ss_tot\", \"id\": 4, \"y_i\": 120.0, \"y_hat_i\": 164.793973011224, \"age\": 0.03081082953138418, \"sex\": 0.05068011873981862, \"bmi\": -0.03422906805670789, \"bp\": 0.04366563219116252, \"tc\": 0.05759701308243695, \"ldl\": 0.0688313780146371, \"hdl\": -0.03235593223976409, \"tch\": 0.05755656502955003, \"ltg\": 0.03545870422305857, \"glu\": 0.0859065477110576}, {\"__x__\": 245.6308133036372, \"__x2__\": 250.5231952574537, \"__y__\": 21317.39665394526, \"__y2__\": 95656.96800000001, \"color\": \"y_i_minus_y_bar_squared\", \"part of\": \"ss_tot\", \"id\": 5, \"y_i\": 67.0, \"y_hat_i\": 131.06765868563747, \"age\": -0.03457486258696539, \"sex\": 0.05068011873981862, \"bmi\": 0.005649978676881689, \"bp\": -0.00567042229275739, \"tc\": -0.07311850844666953, \"ldl\": -0.06269097593696756, \"hdl\": -0.006584467611155497, \"tch\": -0.03949338287409329, \"ltg\": -0.04542403773513769, \"glu\": 0.03205915781820968}, {\"__x__\": 252.5231952574537, \"__x2__\": 302.96780483362176, \"__y__\": 966.2320000000001, \"__y2__\": 95656.96800000001, \"color\": \"y_i_minus_y_bar_squared\", \"part of\": \"ss_tot\", \"id\": 6, \"y_i\": 310.0, \"y_hat_i\": 259.12441219300695, \"age\": 0.04897352178648128, \"sex\": 0.05068011873981862, \"bmi\": 0.08864150836570328, \"bp\": 0.08728655405517267, \"tc\": 0.03558176735121902, \"ldl\": 0.02154596028441731, \"hdl\": -0.024992656631590206, \"tch\": 0.03430885887772673, \"ltg\": 0.06605066658209234, \"glu\": 0.13146972377423663}, {\"__x__\": 304.9678048336217, \"__x2__\": 312.3056900485427, \"__y__\": 966.2320000000001, \"__y2__\": 15689.145145939348, \"color\": \"y_i_minus_y_bar_squared\", \"part of\": \"ss_tot\", \"id\": 7, \"y_i\": 94.0, \"y_hat_i\": 100.47873745848827, \"age\": -0.04183993948900423, \"sex\": -0.044641636506989144, \"bmi\": -0.033151255982827074, \"bp\": -0.0228846771720037, \"tc\": 0.04658939021682799, \"ldl\": 0.041587461838947556, \"hdl\": 0.05600337505832251, \"tch\": -0.024732934523729287, \"ltg\": -0.025953110560258, \"glu\": -0.03835665973397607}, {\"__x__\": 314.3056900485427, \"__x2__\": 341.3615316400966, \"__y__\": 966.2320000000001, \"__y2__\": 15689.145145939348, \"color\": \"y_i_minus_y_bar_squared\", \"part of\": \"ss_tot\", \"id\": 8, \"y_i\": 183.0, \"y_hat_i\": 117.06005372050254, \"age\": -0.009147093429829445, \"sex\": -0.044641636506989144, \"bmi\": -0.05686312160820465, \"bp\": -0.05042748497879779, \"tc\": 0.02182223876920781, \"ldl\": 0.04534524338042199, \"hdl\": -0.028674294435677143, \"tch\": 0.03430885887772673, \"ltg\": -0.009918765569334137, \"glu\": -0.01764612515980379}, {\"__x__\": 343.3615316400966, \"__x2__\": 374.0, \"__y__\": 966.2320000000001, \"__y2__\": 15689.145145939348, \"color\": \"y_i_minus_y_bar_squared\", \"part of\": \"ss_tot\", \"id\": 9, \"y_i\": 66.0, \"y_hat_i\": 124.3026159730496, \"age\": 0.0707687524925978, \"sex\": 0.05068011873981862, \"bmi\": -0.03099563183506548, \"bp\": 0.0218723855140367, \"tc\": -0.037343734133440394, \"ldl\": -0.047033552847490806, \"hdl\": 0.033913548233800855, \"tch\": -0.03949338287409329, \"ltg\": -0.014959693812643405, \"glu\": -0.0010776975004659671}, {\"__x__\": 304.9678048336217, \"__x2__\": 316.999323950375, \"__y__\": 17621.60914593935, \"__y2__\": 39103.28849466165, \"color\": \"y_i_minus_y_bar_squared\", \"part of\": \"ss_tot\", \"id\": 10, \"y_i\": 173.0, \"y_hat_i\": 218.36868145767403, \"age\": 0.009015598825267658, \"sex\": -0.044641636506989144, \"bmi\": 0.055229334075398484, \"bp\": -0.00567042229275739, \"tc\": 0.05759701308243695, \"ldl\": 0.04471894645684291, \"hdl\": -0.002902829807068556, \"tch\": 0.023238522614953735, \"ltg\": 0.05568622641456506, \"glu\": 0.1066170822852299}, {\"__x__\": 318.99932395037507, \"__x2__\": 335.81897468186537, \"__y__\": 17621.60914593935, \"__y2__\": 39103.28849466165, \"color\": \"y_i_minus_y_bar_squared\", \"part of\": \"ss_tot\", \"id\": 11, \"y_i\": 72.0, \"y_hat_i\": 61.19581944175991, \"age\": -0.027309785684926546, \"sex\": -0.044641636506989144, \"bmi\": -0.06009655782984706, \"bp\": -0.029770379123702218, \"tc\": 0.04658939021682799, \"ldl\": 0.019980217975469634, \"hdl\": 0.12227285553188745, \"tch\": -0.03949338287409329, \"ltg\": -0.05140387304727299, \"glu\": -0.009361911330134878}, {\"__x__\": 337.81897468186537, \"__x2__\": 374.0, \"__y__\": 17621.60914593935, \"__y2__\": 39103.28849466165, \"color\": \"y_i_minus_y_bar_squared\", \"part of\": \"ss_tot\", \"id\": 12, \"y_i\": 49.0, \"y_hat_i\": 132.24837932841834, \"age\": 0.016280675727306498, \"sex\": -0.044641636506989144, \"bmi\": 0.0013387303813585058, \"bp\": 0.008100981610639655, \"tc\": 0.005310804470794357, \"ldl\": 0.010898912583573148, \"hdl\": 0.030231910429713918, \"tch\": -0.03949338287409329, \"ltg\": -0.04542403773513769, \"glu\": 0.03205915781820968}, {\"__x__\": 304.9678048336217, \"__x2__\": 329.4490526162462, \"__y__\": 41035.75249466165, \"__y2__\": 61017.89028245113, \"color\": \"y_i_minus_y_bar_squared\", \"part of\": \"ss_tot\", \"id\": 13, \"y_i\": 64.0, \"y_hat_i\": 120.33293545686966, \"age\": -0.012779631880848867, \"sex\": -0.044641636506989144, \"bmi\": -0.023450947317899894, \"bp\": -0.04009893205125, \"tc\": -0.016704441260423575, \"ldl\": 0.00463594334778245, \"hdl\": -0.01762938102341632, \"tch\": -0.002592261998183278, \"ltg\": -0.03845971734112638, \"glu\": -0.03835665973397607}, {\"__x__\": 304.9678048336217, \"__x2__\": 329.4490526162462, \"__y__\": 62950.35428245113, \"__y2__\": 95656.96800000001, \"color\": \"y_i_minus_y_bar_squared\", \"part of\": \"ss_tot\", \"id\": 14, \"y_i\": 48.0, \"y_hat_i\": 52.5451300875427, \"age\": -0.056370093293081916, \"sex\": -0.044641636506989144, \"bmi\": -0.07410811479029747, \"bp\": -0.05042748497879779, \"tc\": -0.0249601584096303, \"ldl\": -0.047033552847490806, \"hdl\": 0.09281975309919192, \"tch\": -0.0763945037500033, \"ltg\": -0.061175799045152635, \"glu\": -0.04664087356364498}, {\"__x__\": 331.44905261624626, \"__x2__\": 367.0869219576934, \"__y__\": 41035.75249466165, \"__y2__\": 49796.93314145835, \"color\": \"y_i_minus_y_bar_squared\", \"part of\": \"ss_tot\", \"id\": 15, \"y_i\": 178.0, \"y_hat_i\": 194.03746763935754, \"age\": 0.04170844488444244, \"sex\": 0.05068011873981862, \"bmi\": 0.01966153563733209, \"bp\": 0.059743746248378575, \"tc\": -0.005696818394814609, \"ldl\": -0.0025664712733768653, \"hdl\": -0.028674294435677143, \"tch\": -0.002592261998183278, \"ltg\": 0.031192602201596156, \"glu\": 0.007206516329202944}, {\"__x__\": 369.0869219576934, \"__x2__\": 374.0, \"__y__\": 41035.75249466165, \"__y2__\": 49796.93314145835, \"color\": \"y_i_minus_y_bar_squared\", \"part of\": \"ss_tot\", \"id\": 16, \"y_i\": 104.0, \"y_hat_i\": 102.5756430994735, \"age\": -0.005514554978810025, \"sex\": 0.05068011873981862, \"bmi\": -0.015906262800734303, \"bp\": -0.06764173985804409, \"tc\": 0.04934129593323023, \"ldl\": 0.07916527725369175, \"hdl\": -0.028674294435677143, \"tch\": 0.03430885887772673, \"ltg\": -0.018113692315690322, \"glu\": 0.044485478562713045}, {\"__x__\": 330.44905261624626, \"__x2__\": 330.61874014964604, \"__y__\": 51729.39714145835, \"__y2__\": 79533.94386287604, \"color\": \"y_i_minus_y_bar_squared\", \"part of\": \"ss_tot\", \"id\": 17, \"y_i\": 132.0, \"y_hat_i\": 123.56778709248869, \"age\": 0.04170844488444244, \"sex\": 0.05068011873981862, \"bmi\": -0.015906262800734303, \"bp\": 0.01729339371615719, \"tc\": -0.037343734133440394, \"ldl\": -0.013839815897800126, \"hdl\": -0.024992656631590206, \"tch\": -0.011079519799642579, \"ltg\": -0.04688253415273158, \"glu\": 0.015490730158871856}, {\"__x__\": 331.61874014964604, \"__x2__\": 374.0, \"__y__\": 51729.39714145835, \"__y2__\": 79533.94386287604, \"color\": \"y_i_minus_y_bar_squared\", \"part of\": \"ss_tot\", \"id\": 18, \"y_i\": 220.0, \"y_hat_i\": 211.0346532294693, \"age\": -0.045472477940023646, \"sex\": -0.044641636506989144, \"bmi\": 0.039062152967186486, \"bp\": 0.0012152796589411327, \"tc\": 0.016318427336403322, \"ldl\": 0.015282991048626631, \"hdl\": -0.028674294435677143, \"tch\": 0.02655962349378563, \"ltg\": 0.04452872881997113, \"glu\": -0.025930338989472702}, {\"__x__\": 331.44905261624626, \"__x2__\": 373.9999999999999, \"__y__\": 81466.40786287605, \"__y2__\": 95656.96800000001, \"color\": \"y_i_minus_y_bar_squared\", \"part of\": \"ss_tot\", \"id\": 19, \"y_i\": 57.0, \"y_hat_i\": 52.60221695919573, \"age\": -0.045472477940023646, \"sex\": -0.044641636506989144, \"bmi\": -0.07303030271641665, \"bp\": -0.08141314376144114, \"tc\": 0.08374011738825825, \"ldl\": 0.027808929520208008, \"hdl\": 0.17381578478910462, \"tch\": -0.03949338287409329, \"ltg\": -0.00422151393810765, \"glu\": 0.0030644094143684884}], \"data-c4a6182402d9f0a218a68bc558ceea3b\": [{\"scalar_values\": 1.0, \"scalar_names\": \"one\"}, {\"scalar_values\": 0.4149145725528049, \"scalar_names\": \"ss_res_ss_tot_ratio\"}]}}, {\"mode\": \"vega-lite\"});\n",
       "</script>"
      ],
      "text/plain": [
       "alt.HConcatChart(...)"
      ]
     },
     "metadata": {},
     "output_type": "display_data"
    }
   ],
   "source": [
    "# r2\n",
    "########### BEGIN COMPUTATION GRAPH ##########\n",
    "## Everything below can be extracted from the abstract syntax tree\n",
    "# Changes size of container\n",
    "from IPython.display import display, HTML\n",
    "display(HTML(\"<style>.container { width:100% !important; }</style>\"))\n",
    "display(HTML(\"<style>div.output_scroll { height: 44em; display: block;}</style>\"))\n",
    "# display(HTML(\"<style>.output { flex-direction: row; }</style>\"))\n",
    "\n",
    "y_i = diabetes_y_test\n",
    "ids = np.arange(len(diabetes_y_test))\n",
    "y_hat_i = diabetes_y_pred\n",
    "X = diabetes_X_test\n",
    "y_bar_scalar = np.mean(y_i)\n",
    "y_bar_vector = np.full(y_i.shape, y_bar_scalar)\n",
    "y_i_minus_y_hat_i = y_i - y_hat_i\n",
    "y_i_minus_y_bar = y_i - y_bar_vector\n",
    "y_i_minus_y_hat_i_squared = np.square(y_i_minus_y_hat_i)\n",
    "y_i_minus_y_bar_squared = np.square(y_i_minus_y_bar)\n",
    "ss_res = np.sum(y_i_minus_y_hat_i_squared)\n",
    "ss_tot = np.sum(y_i_minus_y_bar_squared)\n",
    "one = 1\n",
    "ss_res_ss_tot_ratio = ss_res / ss_tot\n",
    "r2 = one - ss_res_ss_tot_ratio\n",
    "data_dict = {\n",
    "    'ids': ids,\n",
    "    'y_i': y_i,\n",
    "    'y_hat_i': y_hat_i,\n",
    "    'X': X,\n",
    "    'y_bar_scalar': y_bar_scalar,\n",
    "    'y_bar_vector': y_bar_vector,\n",
    "    'y_i_minus_y_hat_i': y_i_minus_y_hat_i,\n",
    "    'y_i_minus_y_bar': y_i_minus_y_bar,\n",
    "    'y_i_minus_y_hat_i_squared': y_i_minus_y_hat_i_squared,\n",
    "    'y_i_minus_y_bar_squared': y_i_minus_y_bar_squared,\n",
    "    'ss_res': ss_res,\n",
    "    'ss_tot': ss_tot,\n",
    "    'one': one,\n",
    "    'ss_res_ss_tot_ratio': ss_res_ss_tot_ratio,\n",
    "    'r2': r2\n",
    "}\n",
    "\n",
    "input_vars = ['y_i', 'y_hat_i']\n",
    "for col in df_X_test.columns:\n",
    "    d = df_X_test[[col]]\n",
    "    data_dict[col] = d\n",
    "    input_vars.append(col)\n",
    "\n",
    "minus_scalar = ComputationNode('minus_scalar', None, 'scalar_diff', input_data=['one', 'ss_res_ss_tot_ratio'], output_data='r2')\n",
    "one = ComputationNode('one', minus_scalar, 'scalar', input_data=[], output_data='one')\n",
    "ratio = ComputationNode('ratio', minus_scalar, 'scalar_ratio', input_data=['ss_res', 'ss_tot'], output_data='ss_res_ss_tot_ratio')\n",
    "vector_sum_ss_res = ComputationNode('ss_res', ratio, 'vector_sum',input_data=['y_i_minus_y_hat_i_squared'], output_data='ss_res')\n",
    "vector_sum_ss_tot = ComputationNode('ss_tot', ratio, 'vector_sum', input_data=['y_i_minus_y_bar_squared'], output_data='ss_tot')\n",
    "square_residuals = ComputationNode('square_residuals', vector_sum_ss_res, 'vector_square', input_data=['y_i_minus_y_hat_i'], output_data='y_i_minus_y_hat_i_squared')\n",
    "square_variances = ComputationNode('square_variances', vector_sum_ss_tot, 'vector_square', input_data=['y_i_minus_y_bar'], output_data='y_i_minus_y_bar_squared')\n",
    "vector_difference_residuals = ComputationNode('vector_difference_residuals', square_residuals, 'vector_diff', input_data=['y_i', 'y_hat_i'], output_data='y_i_minus_y_hat_i')\n",
    "vector_difference_variances = ComputationNode('vector_difference_variances', square_variances, 'vector_diff', input_data=['y_i', 'y_bar_vector'], output_data='y_i_minus_y_bar')\n",
    "y_i_var_node = ComputationNode('literal_yi_var', vector_difference_variances, 'vector', output_data='y_i')\n",
    "broadcast = ComputationNode('broadcast_mean', vector_difference_variances, 'broadcast', input_data=['y_bar_scalar', 'y_i'], output_data='y_bar_vector')\n",
    "mean_y = ComputationNode('mean_y', broadcast, 'mean', input_data=['y_i'], output_data='y_bar_scalar')\n",
    "y_i_mean_node = ComputationNode('literal_yi_mean', mean_y, 'vector', output_data='y_i')\n",
    "y_i_res_node = ComputationNode('literal_yi_res', vector_difference_residuals, 'vector', output_data='y_i')\n",
    "y_hat_node = ComputationNode('literal_yhat', vector_difference_residuals, 'vector', output_data='y_hat_i')\n",
    "\n",
    "parser = ComputationTreeParser(minus_scalar)\n",
    "parser.parse_computation_tree()\n",
    "vis_containers = parser.visualization_containers\n",
    "########### END COMPUTATION GRAPH ##########\n",
    "\n",
    "r = AltairRenderer(vis_containers, data_dict, input_vars=input_vars)\n",
    "charts = r.convert_to_charts()\n",
    "\n",
    "charts.display()"
   ]
  },
  {
   "cell_type": "code",
   "execution_count": 4,
   "id": "8a47eccd",
   "metadata": {},
   "outputs": [],
   "source": [
    "# mean absolute error\n",
    "\n",
    "\n",
    "\n",
    "\n"
   ]
  },
  {
   "cell_type": "code",
   "execution_count": 5,
   "id": "a9f2d1de",
   "metadata": {},
   "outputs": [],
   "source": [
    "# mean squared error\n"
   ]
  },
  {
   "cell_type": "code",
   "execution_count": 6,
   "id": "e9a3e18b",
   "metadata": {},
   "outputs": [],
   "source": [
    "# root mean squared error\n"
   ]
  },
  {
   "cell_type": "code",
   "execution_count": 7,
   "id": "359314a1",
   "metadata": {},
   "outputs": [],
   "source": [
    "# median absolute error\n"
   ]
  },
  {
   "cell_type": "code",
   "execution_count": 8,
   "id": "ca82a7e5",
   "metadata": {},
   "outputs": [],
   "source": [
    "# mean absolute percentage error"
   ]
  }
 ],
 "metadata": {
  "kernelspec": {
   "display_name": "Python 3 (ipykernel)",
   "language": "python",
   "name": "python3"
  },
  "language_info": {
   "codemirror_mode": {
    "name": "ipython",
    "version": 3
   },
   "file_extension": ".py",
   "mimetype": "text/x-python",
   "name": "python",
   "nbconvert_exporter": "python",
   "pygments_lexer": "ipython3",
   "version": "3.10.9"
  }
 },
 "nbformat": 4,
 "nbformat_minor": 5
}

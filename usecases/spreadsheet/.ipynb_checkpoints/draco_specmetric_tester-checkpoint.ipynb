{
 "cells": [
  {
   "cell_type": "code",
   "execution_count": 22,
   "id": "27fbbdbf",
   "metadata": {},
   "outputs": [],
   "source": [
    "import pandas as pd\n",
    "import numpy as np\n",
    "from draco import dict_union, dict_to_facts, answer_set_to_dict, Draco\n",
    "from draco.renderer import AltairRenderer\n",
    "from draco.schema import schema_from_dataframe\n",
    "from IPython.display import display\n",
    "import json"
   ]
  },
  {
   "cell_type": "code",
   "execution_count": 23,
   "id": "a72afd21",
   "metadata": {},
   "outputs": [
    {
     "data": {
      "text/html": [
       "<div>\n",
       "<style scoped>\n",
       "    .dataframe tbody tr th:only-of-type {\n",
       "        vertical-align: middle;\n",
       "    }\n",
       "\n",
       "    .dataframe tbody tr th {\n",
       "        vertical-align: top;\n",
       "    }\n",
       "\n",
       "    .dataframe thead th {\n",
       "        text-align: right;\n",
       "    }\n",
       "</style>\n",
       "<table border=\"1\" class=\"dataframe\">\n",
       "  <thead>\n",
       "    <tr style=\"text-align: right;\">\n",
       "      <th></th>\n",
       "      <th>Major</th>\n",
       "      <th>Gender</th>\n",
       "      <th>Admission</th>\n",
       "    </tr>\n",
       "  </thead>\n",
       "  <tbody>\n",
       "    <tr>\n",
       "      <th>0</th>\n",
       "      <td>C</td>\n",
       "      <td>F</td>\n",
       "      <td>Rejected</td>\n",
       "    </tr>\n",
       "    <tr>\n",
       "      <th>1</th>\n",
       "      <td>B</td>\n",
       "      <td>M</td>\n",
       "      <td>Accepted</td>\n",
       "    </tr>\n",
       "    <tr>\n",
       "      <th>2</th>\n",
       "      <td>Other</td>\n",
       "      <td>F</td>\n",
       "      <td>Accepted</td>\n",
       "    </tr>\n",
       "    <tr>\n",
       "      <th>3</th>\n",
       "      <td>Other</td>\n",
       "      <td>M</td>\n",
       "      <td>Accepted</td>\n",
       "    </tr>\n",
       "    <tr>\n",
       "      <th>4</th>\n",
       "      <td>Other</td>\n",
       "      <td>M</td>\n",
       "      <td>Rejected</td>\n",
       "    </tr>\n",
       "  </tbody>\n",
       "</table>\n",
       "</div>"
      ],
      "text/plain": [
       "   Major Gender Admission\n",
       "0      C      F  Rejected\n",
       "1      B      M  Accepted\n",
       "2  Other      F  Accepted\n",
       "3  Other      M  Accepted\n",
       "4  Other      M  Rejected"
      ]
     },
     "execution_count": 23,
     "metadata": {},
     "output_type": "execute_result"
    }
   ],
   "source": [
    "df = pd.read_csv(\"berkeley.csv\", usecols=[1,2,3])\n",
    "df.head()"
   ]
  },
  {
   "cell_type": "code",
   "execution_count": 40,
   "id": "729e391d",
   "metadata": {},
   "outputs": [
    {
     "ename": "RuntimeError",
     "evalue": "parsing failed",
     "output_type": "error",
     "traceback": [
      "\u001b[1;31m---------------------------------------------------------------------------\u001b[0m",
      "\u001b[1;31mRuntimeError\u001b[0m                              Traceback (most recent call last)",
      "Cell \u001b[1;32mIn[40], line 17\u001b[0m\n\u001b[0;32m      4\u001b[0m d \u001b[38;5;241m=\u001b[39m Draco()\n\u001b[0;32m      7\u001b[0m partial_spec \u001b[38;5;241m=\u001b[39m {\n\u001b[0;32m      8\u001b[0m     \u001b[38;5;124m\"\u001b[39m\u001b[38;5;124mview\u001b[39m\u001b[38;5;124m\"\u001b[39m: [\n\u001b[0;32m      9\u001b[0m         {\n\u001b[1;32m   (...)\u001b[0m\n\u001b[0;32m     13\u001b[0m     ]\n\u001b[0;32m     14\u001b[0m }\n\u001b[1;32m---> 17\u001b[0m model \u001b[38;5;241m=\u001b[39m \u001b[38;5;28;43mnext\u001b[39;49m\u001b[43m(\u001b[49m\u001b[43md\u001b[49m\u001b[38;5;241;43m.\u001b[39;49m\u001b[43mcomplete_spec\u001b[49m\u001b[43m(\u001b[49m\u001b[43msch\u001b[49m\u001b[43m \u001b[49m\u001b[38;5;241;43m|\u001b[39;49m\u001b[43m \u001b[49m\u001b[43mpartial_spec\u001b[49m\u001b[43m)\u001b[49m\u001b[43m)\u001b[49m\n\u001b[0;32m     18\u001b[0m spec \u001b[38;5;241m=\u001b[39m answer_set_to_dict(model\u001b[38;5;241m.\u001b[39manswer_set)\n\u001b[0;32m     19\u001b[0m renderer \u001b[38;5;241m=\u001b[39m AltairRenderer(concat_mode\u001b[38;5;241m=\u001b[39m\u001b[38;5;124m\"\u001b[39m\u001b[38;5;124mhconcat\u001b[39m\u001b[38;5;124m\"\u001b[39m)\n",
      "File \u001b[1;32m~\\anaconda3\\envs\\specmetric\\lib\\site-packages\\draco\\run.py:63\u001b[0m, in \u001b[0;36mrun_clingo\u001b[1;34m(program, models, topK, arguments)\u001b[0m\n\u001b[0;32m     60\u001b[0m ctl \u001b[38;5;241m=\u001b[39m clingo\u001b[38;5;241m.\u001b[39mControl([\u001b[38;5;124m\"\u001b[39m\u001b[38;5;124m--single-shot\u001b[39m\u001b[38;5;124m\"\u001b[39m] \u001b[38;5;241m+\u001b[39m arguments \u001b[38;5;28;01mif\u001b[39;00m \u001b[38;5;129;01mnot\u001b[39;00m topK \u001b[38;5;28;01melse\u001b[39;00m arguments)\n\u001b[0;32m     61\u001b[0m config: Any \u001b[38;5;241m=\u001b[39m ctl\u001b[38;5;241m.\u001b[39mconfiguration\n\u001b[1;32m---> 63\u001b[0m \u001b[43mctl\u001b[49m\u001b[38;5;241;43m.\u001b[39;49m\u001b[43madd\u001b[49m\u001b[43m(\u001b[49m\n\u001b[0;32m     64\u001b[0m \u001b[43m    \u001b[49m\u001b[38;5;124;43m\"\u001b[39;49m\u001b[38;5;124;43mbase\u001b[39;49m\u001b[38;5;124;43m\"\u001b[39;49m\u001b[43m,\u001b[49m\n\u001b[0;32m     65\u001b[0m \u001b[43m    \u001b[49m\u001b[43m[\u001b[49m\u001b[43m]\u001b[49m\u001b[43m,\u001b[49m\n\u001b[0;32m     66\u001b[0m \u001b[43m    \u001b[49m\u001b[43mprogram\u001b[49m\u001b[43m,\u001b[49m\n\u001b[0;32m     67\u001b[0m \u001b[43m\u001b[49m\u001b[43m)\u001b[49m\n\u001b[0;32m     69\u001b[0m \u001b[38;5;66;03m# topK with all models is the same as ignoring optimization\u001b[39;00m\n\u001b[0;32m     70\u001b[0m \u001b[38;5;28;01mif\u001b[39;00m topK \u001b[38;5;129;01mand\u001b[39;00m models \u001b[38;5;241m==\u001b[39m \u001b[38;5;241m0\u001b[39m:\n",
      "File \u001b[1;32m~\\anaconda3\\envs\\specmetric\\lib\\site-packages\\clingo\\control.py:307\u001b[0m, in \u001b[0;36mControl.add\u001b[1;34m(self, *args, **kwargs)\u001b[0m\n\u001b[0;32m    305\u001b[0m     \u001b[38;5;28mself\u001b[39m\u001b[38;5;241m.\u001b[39m_add1(\u001b[38;5;241m*\u001b[39margs, \u001b[38;5;241m*\u001b[39m\u001b[38;5;241m*\u001b[39mkwargs)\n\u001b[0;32m    306\u001b[0m \u001b[38;5;28;01melse\u001b[39;00m:\n\u001b[1;32m--> 307\u001b[0m     \u001b[38;5;28mself\u001b[39m\u001b[38;5;241m.\u001b[39m_add2(\u001b[38;5;241m*\u001b[39margs, \u001b[38;5;241m*\u001b[39m\u001b[38;5;241m*\u001b[39mkwargs)\n",
      "File \u001b[1;32m~\\anaconda3\\envs\\specmetric\\lib\\site-packages\\clingo\\control.py:318\u001b[0m, in \u001b[0;36mControl._add2\u001b[1;34m(self, name, parameters, program)\u001b[0m\n\u001b[0;32m    316\u001b[0m     c_mem\u001b[38;5;241m.\u001b[39mappend(_ffi\u001b[38;5;241m.\u001b[39mnew(\u001b[38;5;124m\"\u001b[39m\u001b[38;5;124mchar[]\u001b[39m\u001b[38;5;124m\"\u001b[39m, param\u001b[38;5;241m.\u001b[39mencode()))\n\u001b[0;32m    317\u001b[0m     c_params[i] \u001b[38;5;241m=\u001b[39m c_mem[\u001b[38;5;241m-\u001b[39m\u001b[38;5;241m1\u001b[39m]\n\u001b[1;32m--> 318\u001b[0m \u001b[43m_handle_error\u001b[49m\u001b[43m(\u001b[49m\n\u001b[0;32m    319\u001b[0m \u001b[43m    \u001b[49m\u001b[43m_lib\u001b[49m\u001b[38;5;241;43m.\u001b[39;49m\u001b[43mclingo_control_add\u001b[49m\u001b[43m(\u001b[49m\n\u001b[0;32m    320\u001b[0m \u001b[43m        \u001b[49m\u001b[38;5;28;43mself\u001b[39;49m\u001b[38;5;241;43m.\u001b[39;49m\u001b[43m_rep\u001b[49m\u001b[43m,\u001b[49m\u001b[43m \u001b[49m\u001b[43mname\u001b[49m\u001b[38;5;241;43m.\u001b[39;49m\u001b[43mencode\u001b[49m\u001b[43m(\u001b[49m\u001b[43m)\u001b[49m\u001b[43m,\u001b[49m\u001b[43m \u001b[49m\u001b[43mc_params\u001b[49m\u001b[43m,\u001b[49m\u001b[43m \u001b[49m\u001b[38;5;28;43mlen\u001b[39;49m\u001b[43m(\u001b[49m\u001b[43mparameters\u001b[49m\u001b[43m)\u001b[49m\u001b[43m,\u001b[49m\u001b[43m \u001b[49m\u001b[43mprogram\u001b[49m\u001b[38;5;241;43m.\u001b[39;49m\u001b[43mencode\u001b[49m\u001b[43m(\u001b[49m\u001b[43m)\u001b[49m\n\u001b[0;32m    321\u001b[0m \u001b[43m    \u001b[49m\u001b[43m)\u001b[49m\n\u001b[0;32m    322\u001b[0m \u001b[43m\u001b[49m\u001b[43m)\u001b[49m\n",
      "File \u001b[1;32m~\\anaconda3\\envs\\specmetric\\lib\\site-packages\\clingo\\_internal.py:75\u001b[0m, in \u001b[0;36m_handle_error\u001b[1;34m(ret, handler)\u001b[0m\n\u001b[0;32m     73\u001b[0m \u001b[38;5;28;01mif\u001b[39;00m code \u001b[38;5;241m==\u001b[39m _lib\u001b[38;5;241m.\u001b[39mclingo_error_bad_alloc:\n\u001b[0;32m     74\u001b[0m     \u001b[38;5;28;01mraise\u001b[39;00m \u001b[38;5;167;01mMemoryError\u001b[39;00m(msg)\n\u001b[1;32m---> 75\u001b[0m \u001b[38;5;28;01mraise\u001b[39;00m \u001b[38;5;167;01mRuntimeError\u001b[39;00m(msg)\n",
      "\u001b[1;31mRuntimeError\u001b[0m: parsing failed"
     ]
    }
   ],
   "source": [
    "sch = schema_from_dataframe(df)\n",
    "facts = dict_to_facts(sch)\n",
    "\n",
    "d = Draco()\n",
    "\n",
    "\n",
    "# partial_spec = {\n",
    "#     \"view\": [\n",
    "#         {\n",
    "#             \"scale\": [\n",
    "#             ]\n",
    "#         }\n",
    "#     ]\n",
    "# }\n",
    "partial_spec = {}\n",
    "\n",
    "\n",
    "model = next(d.complete_spec(sch | partial_spec))\n",
    "spec = answer_set_to_dict(model.answer_set)\n",
    "renderer = AltairRenderer(concat_mode=\"hconcat\")\n",
    "\n",
    "print(json.dumps(spec, indent=2))"
   ]
  },
  {
   "cell_type": "code",
   "execution_count": 34,
   "id": "2e231ab5",
   "metadata": {},
   "outputs": [
    {
     "name": "stdout",
     "output_type": "stream",
     "text": [
      "{'field': [{'entropy': 1329,\n",
      "            'freq': 7924,\n",
      "            'name': 'major',\n",
      "            'type': 'string',\n",
      "            'unique': 7},\n",
      "           {'entropy': 640,\n",
      "            'freq': 8442,\n",
      "            'name': 'gender',\n",
      "            'type': 'string',\n",
      "            'unique': 2},\n",
      "           {'entropy': 677,\n",
      "            'freq': 7531,\n",
      "            'name': 'admission',\n",
      "            'type': 'string',\n",
      "            'unique': 2}],\n",
      " 'number_rows': 12763,\n",
      " 'task': 'summary'}\n"
     ]
    }
   ],
   "source": [
    "from pprint import pprint\n",
    "pprint(answer_set_to_dict(model.answer_set))"
   ]
  },
  {
   "cell_type": "code",
   "execution_count": 28,
   "id": "f588b294",
   "metadata": {},
   "outputs": [
    {
     "name": "stdout",
     "output_type": "stream",
     "text": [
      "spec valid?  True\n"
     ]
    }
   ],
   "source": [
    "print(\"spec valid? \", d.check_spec(facts))\n",
    "# print(\"and the violations are? \", d.get_violations(spec))"
   ]
  },
  {
   "cell_type": "code",
   "execution_count": 37,
   "id": "f21560e0",
   "metadata": {},
   "outputs": [
    {
     "ename": "ValidationError",
     "evalue": "1 validation error for SpecificationDict\nview.0.mark\n  Field required [type=missing, input_value={}, input_type=dict]\n    For further information visit https://errors.pydantic.dev/2.6/v/missing",
     "output_type": "error",
     "traceback": [
      "\u001b[1;31m---------------------------------------------------------------------------\u001b[0m",
      "\u001b[1;31mValidationError\u001b[0m                           Traceback (most recent call last)",
      "Cell \u001b[1;32mIn[37], line 12\u001b[0m\n\u001b[0;32m      1\u001b[0m \u001b[38;5;66;03m# chart = renderer.render(completed_facts, df)\u001b[39;00m\n\u001b[0;32m      2\u001b[0m \u001b[38;5;66;03m# print(json.dumps(spec, indent=2))\u001b[39;00m\n\u001b[0;32m      4\u001b[0m partial_spec \u001b[38;5;241m=\u001b[39m {\n\u001b[0;32m      5\u001b[0m     \u001b[38;5;124m\"\u001b[39m\u001b[38;5;124mview\u001b[39m\u001b[38;5;124m\"\u001b[39m: [\n\u001b[0;32m      6\u001b[0m         {\n\u001b[0;32m      7\u001b[0m         }\n\u001b[0;32m      8\u001b[0m     ]\n\u001b[0;32m      9\u001b[0m }\n\u001b[1;32m---> 12\u001b[0m chart \u001b[38;5;241m=\u001b[39m \u001b[43mrenderer\u001b[49m\u001b[38;5;241;43m.\u001b[39;49m\u001b[43mrender\u001b[49m\u001b[43m(\u001b[49m\u001b[43mspec\u001b[49m\u001b[43m \u001b[49m\u001b[38;5;241;43m|\u001b[39;49m\u001b[43m \u001b[49m\u001b[43mpartial_spec\u001b[49m\u001b[43m,\u001b[49m\u001b[43m \u001b[49m\u001b[43mdf\u001b[49m\u001b[43m)\u001b[49m\n\u001b[0;32m     13\u001b[0m display(chart)\n",
      "File \u001b[1;32m~\\anaconda3\\envs\\specmetric\\lib\\site-packages\\draco\\renderer\\altair\\altair_renderer.py:103\u001b[0m, in \u001b[0;36mAltairRenderer.render\u001b[1;34m(self, spec, data)\u001b[0m\n\u001b[0;32m    102\u001b[0m \u001b[38;5;28;01mdef\u001b[39;00m \u001b[38;5;21mrender\u001b[39m(\u001b[38;5;28mself\u001b[39m, spec: \u001b[38;5;28mdict\u001b[39m, data: DataFrame) \u001b[38;5;241m-\u001b[39m\u001b[38;5;241m>\u001b[39m VegaLiteChart:\n\u001b[1;32m--> 103\u001b[0m     typed_spec \u001b[38;5;241m=\u001b[39m \u001b[43mSpecificationDict\u001b[49m\u001b[38;5;241;43m.\u001b[39;49m\u001b[43mmodel_validate\u001b[49m\u001b[43m(\u001b[49m\u001b[43mspec\u001b[49m\u001b[43m)\u001b[49m\n\u001b[0;32m    104\u001b[0m     \u001b[38;5;66;03m# initial chart to be mutated by the visitor callbacks\u001b[39;00m\n\u001b[0;32m    105\u001b[0m     chart: AnyAltairChart \u001b[38;5;241m=\u001b[39m alt\u001b[38;5;241m.\u001b[39mChart(data)\n",
      "File \u001b[1;32m~\\anaconda3\\envs\\specmetric\\lib\\site-packages\\pydantic\\main.py:509\u001b[0m, in \u001b[0;36mBaseModel.model_validate\u001b[1;34m(cls, obj, strict, from_attributes, context)\u001b[0m\n\u001b[0;32m    507\u001b[0m \u001b[38;5;66;03m# `__tracebackhide__` tells pytest and some other tools to omit this function from tracebacks\u001b[39;00m\n\u001b[0;32m    508\u001b[0m __tracebackhide__ \u001b[38;5;241m=\u001b[39m \u001b[38;5;28;01mTrue\u001b[39;00m\n\u001b[1;32m--> 509\u001b[0m \u001b[38;5;28;01mreturn\u001b[39;00m \u001b[38;5;28;43mcls\u001b[39;49m\u001b[38;5;241;43m.\u001b[39;49m\u001b[43m__pydantic_validator__\u001b[49m\u001b[38;5;241;43m.\u001b[39;49m\u001b[43mvalidate_python\u001b[49m\u001b[43m(\u001b[49m\n\u001b[0;32m    510\u001b[0m \u001b[43m    \u001b[49m\u001b[43mobj\u001b[49m\u001b[43m,\u001b[49m\u001b[43m \u001b[49m\u001b[43mstrict\u001b[49m\u001b[38;5;241;43m=\u001b[39;49m\u001b[43mstrict\u001b[49m\u001b[43m,\u001b[49m\u001b[43m \u001b[49m\u001b[43mfrom_attributes\u001b[49m\u001b[38;5;241;43m=\u001b[39;49m\u001b[43mfrom_attributes\u001b[49m\u001b[43m,\u001b[49m\u001b[43m \u001b[49m\u001b[43mcontext\u001b[49m\u001b[38;5;241;43m=\u001b[39;49m\u001b[43mcontext\u001b[49m\n\u001b[0;32m    511\u001b[0m \u001b[43m\u001b[49m\u001b[43m)\u001b[49m\n",
      "\u001b[1;31mValidationError\u001b[0m: 1 validation error for SpecificationDict\nview.0.mark\n  Field required [type=missing, input_value={}, input_type=dict]\n    For further information visit https://errors.pydantic.dev/2.6/v/missing"
     ]
    }
   ],
   "source": [
    "# chart = renderer.render(completed_facts, df)\n",
    "# print(json.dumps(spec, indent=2))\n",
    "\n",
    "\n",
    "chart = renderer.render(spec | partial_spec, df)\n",
    "display(chart)"
   ]
  },
  {
   "cell_type": "code",
   "execution_count": 21,
   "id": "80ec5656",
   "metadata": {},
   "outputs": [
    {
     "data": {
      "text/plain": [
       "{'number_rows': 12763,\n",
       " 'field': [{'name': 'Major',\n",
       "   'type': 'string',\n",
       "   'unique': 7,\n",
       "   'entropy': 1329,\n",
       "   'freq': 7924},\n",
       "  {'name': 'Gender',\n",
       "   'type': 'string',\n",
       "   'unique': 2,\n",
       "   'entropy': 640,\n",
       "   'freq': 8442},\n",
       "  {'name': 'Admission',\n",
       "   'type': 'string',\n",
       "   'unique': 2,\n",
       "   'entropy': 677,\n",
       "   'freq': 7531}]}"
      ]
     },
     "execution_count": 21,
     "metadata": {},
     "output_type": "execute_result"
    }
   ],
   "source": [
    "sch"
   ]
  },
  {
   "cell_type": "code",
   "execution_count": null,
   "id": "d31ed7c4",
   "metadata": {},
   "outputs": [],
   "source": []
  },
  {
   "cell_type": "code",
   "execution_count": null,
   "id": "0488cf07",
   "metadata": {},
   "outputs": [],
   "source": []
  }
 ],
 "metadata": {
  "kernelspec": {
   "display_name": "Python 3 (ipykernel)",
   "language": "python",
   "name": "python3"
  },
  "language_info": {
   "codemirror_mode": {
    "name": "ipython",
    "version": 3
   },
   "file_extension": ".py",
   "mimetype": "text/x-python",
   "name": "python",
   "nbconvert_exporter": "python",
   "pygments_lexer": "ipython3",
   "version": "3.10.9"
  }
 },
 "nbformat": 4,
 "nbformat_minor": 5
}

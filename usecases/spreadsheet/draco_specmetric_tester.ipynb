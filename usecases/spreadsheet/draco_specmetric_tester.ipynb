{
 "cells": [
  {
   "cell_type": "code",
   "execution_count": 22,
   "id": "27fbbdbf",
   "metadata": {},
   "outputs": [],
   "source": [
    "import pandas as pd\n",
    "import numpy as np\n",
    "from draco import dict_union, dict_to_facts, answer_set_to_dict, Draco\n",
    "from draco.renderer import AltairRenderer\n",
    "from draco.schema import schema_from_dataframe\n",
    "from IPython.display import display\n",
    "import json"
   ]
  },
  {
   "cell_type": "code",
   "execution_count": 23,
   "id": "a72afd21",
   "metadata": {},
   "outputs": [
    {
     "data": {
      "text/html": [
       "<div>\n",
       "<style scoped>\n",
       "    .dataframe tbody tr th:only-of-type {\n",
       "        vertical-align: middle;\n",
       "    }\n",
       "\n",
       "    .dataframe tbody tr th {\n",
       "        vertical-align: top;\n",
       "    }\n",
       "\n",
       "    .dataframe thead th {\n",
       "        text-align: right;\n",
       "    }\n",
       "</style>\n",
       "<table border=\"1\" class=\"dataframe\">\n",
       "  <thead>\n",
       "    <tr style=\"text-align: right;\">\n",
       "      <th></th>\n",
       "      <th>Major</th>\n",
       "      <th>Gender</th>\n",
       "      <th>Admission</th>\n",
       "    </tr>\n",
       "  </thead>\n",
       "  <tbody>\n",
       "    <tr>\n",
       "      <th>0</th>\n",
       "      <td>C</td>\n",
       "      <td>F</td>\n",
       "      <td>Rejected</td>\n",
       "    </tr>\n",
       "    <tr>\n",
       "      <th>1</th>\n",
       "      <td>B</td>\n",
       "      <td>M</td>\n",
       "      <td>Accepted</td>\n",
       "    </tr>\n",
       "    <tr>\n",
       "      <th>2</th>\n",
       "      <td>Other</td>\n",
       "      <td>F</td>\n",
       "      <td>Accepted</td>\n",
       "    </tr>\n",
       "    <tr>\n",
       "      <th>3</th>\n",
       "      <td>Other</td>\n",
       "      <td>M</td>\n",
       "      <td>Accepted</td>\n",
       "    </tr>\n",
       "    <tr>\n",
       "      <th>4</th>\n",
       "      <td>Other</td>\n",
       "      <td>M</td>\n",
       "      <td>Rejected</td>\n",
       "    </tr>\n",
       "  </tbody>\n",
       "</table>\n",
       "</div>"
      ],
      "text/plain": [
       "   Major Gender Admission\n",
       "0      C      F  Rejected\n",
       "1      B      M  Accepted\n",
       "2  Other      F  Accepted\n",
       "3  Other      M  Accepted\n",
       "4  Other      M  Rejected"
      ]
     },
     "execution_count": 23,
     "metadata": {},
     "output_type": "execute_result"
    }
   ],
   "source": [
    "df = pd.read_csv(\"berkeley.csv\", usecols=[1,2,3])\n",
    "df.head()"
   ]
  },
  {
   "cell_type": "code",
   "execution_count": 48,
   "id": "729e391d",
   "metadata": {},
   "outputs": [
    {
     "name": "stdout",
     "output_type": "stream",
     "text": [
      "{\n",
      "  \"number_rows\": 12763,\n",
      "  \"task\": \"summary\",\n",
      "  \"field\": [\n",
      "    {\n",
      "      \"name\": \"major\",\n",
      "      \"type\": \"string\",\n",
      "      \"unique\": 7,\n",
      "      \"entropy\": 1329,\n",
      "      \"freq\": 7924\n",
      "    },\n",
      "    {\n",
      "      \"name\": \"gender\",\n",
      "      \"type\": \"string\",\n",
      "      \"unique\": 2,\n",
      "      \"entropy\": 640,\n",
      "      \"freq\": 8442\n",
      "    },\n",
      "    {\n",
      "      \"name\": \"admission\",\n",
      "      \"type\": \"string\",\n",
      "      \"unique\": 2,\n",
      "      \"entropy\": 677,\n",
      "      \"freq\": 7531\n",
      "    }\n",
      "  ],\n",
      "  \"view\": [\n",
      "    {\n",
      "      \"coordinates\": \"cartesian\"\n",
      "    }\n",
      "  ]\n",
      "}\n"
     ]
    }
   ],
   "source": [
    "sch = schema_from_dataframe(df)\n",
    "partial_spec = {\n",
    "    \"view\": [\n",
    "        {\n",
    "            \"scale\": [\n",
    "            ]\n",
    "        }\n",
    "    ]\n",
    "}\n",
    "# partial_spec = {}\n",
    "\n",
    "# facts = dict_to_facts(sch)\n",
    "facts = dict_to_facts(sch | partial_spec)\n",
    "\n",
    "d = Draco()\n",
    "\n",
    "\n",
    "\n",
    "\n",
    "# model = next(d.complete_spec(sch | partial_spec))\n",
    "model = next(d.complete_spec(facts))\n",
    "spec = answer_set_to_dict(model.answer_set)\n",
    "renderer = AltairRenderer(concat_mode=\"hconcat\")\n",
    "\n",
    "print(json.dumps(spec, indent=2))"
   ]
  },
  {
   "cell_type": "code",
   "execution_count": 34,
   "id": "abbe59a5",
   "metadata": {},
   "outputs": [
    {
     "name": "stdout",
     "output_type": "stream",
     "text": [
      "{'field': [{'entropy': 1329,\n",
      "            'freq': 7924,\n",
      "            'name': 'major',\n",
      "            'type': 'string',\n",
      "            'unique': 7},\n",
      "           {'entropy': 640,\n",
      "            'freq': 8442,\n",
      "            'name': 'gender',\n",
      "            'type': 'string',\n",
      "            'unique': 2},\n",
      "           {'entropy': 677,\n",
      "            'freq': 7531,\n",
      "            'name': 'admission',\n",
      "            'type': 'string',\n",
      "            'unique': 2}],\n",
      " 'number_rows': 12763,\n",
      " 'task': 'summary'}\n"
     ]
    }
   ],
   "source": [
    "from pprint import pprint\n",
    "pprint(answer_set_to_dict(model.answer_set))"
   ]
  },
  {
   "cell_type": "code",
   "execution_count": 28,
   "id": "f588b294",
   "metadata": {},
   "outputs": [
    {
     "name": "stdout",
     "output_type": "stream",
     "text": [
      "spec valid?  True\n"
     ]
    }
   ],
   "source": [
    "print(\"spec valid? \", d.check_spec(facts))\n",
    "# print(\"and the violations are? \", d.get_violations(spec))"
   ]
  },
  {
   "cell_type": "code",
   "execution_count": 49,
   "id": "f21560e0",
   "metadata": {},
   "outputs": [
    {
     "ename": "ValidationError",
     "evalue": "1 validation error for SpecificationDict\nview.0.mark\n  Field required [type=missing, input_value={'coordinates': 'cartesian'}, input_type=dict]\n    For further information visit https://errors.pydantic.dev/2.6/v/missing",
     "output_type": "error",
     "traceback": [
      "\u001b[1;31m---------------------------------------------------------------------------\u001b[0m",
      "\u001b[1;31mValidationError\u001b[0m                           Traceback (most recent call last)",
      "Cell \u001b[1;32mIn[49], line 1\u001b[0m\n\u001b[1;32m----> 1\u001b[0m chart \u001b[38;5;241m=\u001b[39m \u001b[43mrenderer\u001b[49m\u001b[38;5;241;43m.\u001b[39;49m\u001b[43mrender\u001b[49m\u001b[43m(\u001b[49m\u001b[43mspec\u001b[49m\u001b[43m,\u001b[49m\u001b[43m \u001b[49m\u001b[43mdf\u001b[49m\u001b[43m)\u001b[49m\n\u001b[0;32m      2\u001b[0m \u001b[38;5;66;03m# print(json.dumps(spec, indent=2))\u001b[39;00m\n\u001b[0;32m      3\u001b[0m \n\u001b[0;32m      4\u001b[0m \n\u001b[0;32m      5\u001b[0m \u001b[38;5;66;03m# chart = renderer.render(spec | partial_spec, df)\u001b[39;00m\n\u001b[0;32m      6\u001b[0m display(chart)\n",
      "File \u001b[1;32m~\\anaconda3\\envs\\specmetric\\lib\\site-packages\\draco\\renderer\\altair\\altair_renderer.py:103\u001b[0m, in \u001b[0;36mAltairRenderer.render\u001b[1;34m(self, spec, data)\u001b[0m\n\u001b[0;32m    102\u001b[0m \u001b[38;5;28;01mdef\u001b[39;00m \u001b[38;5;21mrender\u001b[39m(\u001b[38;5;28mself\u001b[39m, spec: \u001b[38;5;28mdict\u001b[39m, data: DataFrame) \u001b[38;5;241m-\u001b[39m\u001b[38;5;241m>\u001b[39m VegaLiteChart:\n\u001b[1;32m--> 103\u001b[0m     typed_spec \u001b[38;5;241m=\u001b[39m \u001b[43mSpecificationDict\u001b[49m\u001b[38;5;241;43m.\u001b[39;49m\u001b[43mmodel_validate\u001b[49m\u001b[43m(\u001b[49m\u001b[43mspec\u001b[49m\u001b[43m)\u001b[49m\n\u001b[0;32m    104\u001b[0m     \u001b[38;5;66;03m# initial chart to be mutated by the visitor callbacks\u001b[39;00m\n\u001b[0;32m    105\u001b[0m     chart: AnyAltairChart \u001b[38;5;241m=\u001b[39m alt\u001b[38;5;241m.\u001b[39mChart(data)\n",
      "File \u001b[1;32m~\\anaconda3\\envs\\specmetric\\lib\\site-packages\\pydantic\\main.py:509\u001b[0m, in \u001b[0;36mBaseModel.model_validate\u001b[1;34m(cls, obj, strict, from_attributes, context)\u001b[0m\n\u001b[0;32m    507\u001b[0m \u001b[38;5;66;03m# `__tracebackhide__` tells pytest and some other tools to omit this function from tracebacks\u001b[39;00m\n\u001b[0;32m    508\u001b[0m __tracebackhide__ \u001b[38;5;241m=\u001b[39m \u001b[38;5;28;01mTrue\u001b[39;00m\n\u001b[1;32m--> 509\u001b[0m \u001b[38;5;28;01mreturn\u001b[39;00m \u001b[38;5;28;43mcls\u001b[39;49m\u001b[38;5;241;43m.\u001b[39;49m\u001b[43m__pydantic_validator__\u001b[49m\u001b[38;5;241;43m.\u001b[39;49m\u001b[43mvalidate_python\u001b[49m\u001b[43m(\u001b[49m\n\u001b[0;32m    510\u001b[0m \u001b[43m    \u001b[49m\u001b[43mobj\u001b[49m\u001b[43m,\u001b[49m\u001b[43m \u001b[49m\u001b[43mstrict\u001b[49m\u001b[38;5;241;43m=\u001b[39;49m\u001b[43mstrict\u001b[49m\u001b[43m,\u001b[49m\u001b[43m \u001b[49m\u001b[43mfrom_attributes\u001b[49m\u001b[38;5;241;43m=\u001b[39;49m\u001b[43mfrom_attributes\u001b[49m\u001b[43m,\u001b[49m\u001b[43m \u001b[49m\u001b[43mcontext\u001b[49m\u001b[38;5;241;43m=\u001b[39;49m\u001b[43mcontext\u001b[49m\n\u001b[0;32m    511\u001b[0m \u001b[43m\u001b[49m\u001b[43m)\u001b[49m\n",
      "\u001b[1;31mValidationError\u001b[0m: 1 validation error for SpecificationDict\nview.0.mark\n  Field required [type=missing, input_value={'coordinates': 'cartesian'}, input_type=dict]\n    For further information visit https://errors.pydantic.dev/2.6/v/missing"
     ]
    }
   ],
   "source": [
    "chart = renderer.render(spec, df)\n",
    "# print(json.dumps(spec, indent=2))\n",
    "\n",
    "\n",
    "# chart = renderer.render(spec | partial_spec, df)\n",
    "display(chart)"
   ]
  },
  {
   "cell_type": "code",
   "execution_count": 21,
   "id": "80ec5656",
   "metadata": {},
   "outputs": [
    {
     "data": {
      "text/plain": [
       "{'number_rows': 12763,\n",
       " 'field': [{'name': 'Major',\n",
       "   'type': 'string',\n",
       "   'unique': 7,\n",
       "   'entropy': 1329,\n",
       "   'freq': 7924},\n",
       "  {'name': 'Gender',\n",
       "   'type': 'string',\n",
       "   'unique': 2,\n",
       "   'entropy': 640,\n",
       "   'freq': 8442},\n",
       "  {'name': 'Admission',\n",
       "   'type': 'string',\n",
       "   'unique': 2,\n",
       "   'entropy': 677,\n",
       "   'freq': 7531}]}"
      ]
     },
     "execution_count": 21,
     "metadata": {},
     "output_type": "execute_result"
    }
   ],
   "source": [
    "sch"
   ]
  },
  {
   "cell_type": "code",
   "execution_count": null,
   "id": "d31ed7c4",
   "metadata": {},
   "outputs": [],
   "source": []
  },
  {
   "cell_type": "code",
   "execution_count": null,
   "id": "0488cf07",
   "metadata": {},
   "outputs": [],
   "source": []
  }
 ],
 "metadata": {
  "kernelspec": {
   "display_name": "Python 3 (ipykernel)",
   "language": "python",
   "name": "python3"
  },
  "language_info": {
   "codemirror_mode": {
    "name": "ipython",
    "version": 3
   },
   "file_extension": ".py",
   "mimetype": "text/x-python",
   "name": "python",
   "nbconvert_exporter": "python",
   "pygments_lexer": "ipython3",
   "version": "3.10.9"
  }
 },
 "nbformat": 4,
 "nbformat_minor": 5
}
